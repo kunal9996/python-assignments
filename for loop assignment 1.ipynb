{
 "cells": [
  {
   "cell_type": "markdown",
   "id": "05a3a9b7-448b-4155-9e4b-ab9a30979fa5",
   "metadata": {},
   "source": [
    "1) Write a Python program to print all the numbers from 1 to 10 using a for loop."
   ]
  },
  {
   "cell_type": "code",
   "execution_count": 1,
   "id": "e0f4f392-7dce-4a0e-9d9c-554b9ff6349a",
   "metadata": {},
   "outputs": [
    {
     "name": "stdout",
     "output_type": "stream",
     "text": [
      "1\n",
      "2\n",
      "3\n",
      "4\n",
      "5\n",
      "6\n",
      "7\n",
      "8\n",
      "9\n",
      "10\n"
     ]
    }
   ],
   "source": [
    "for item in range(1,11):\n",
    "    print(item)"
   ]
  },
  {
   "cell_type": "markdown",
   "id": "190a4540-93cc-42c6-b785-538a6e22d0f3",
   "metadata": {},
   "source": [
    "2) Write a Python program to find the sum of all numbers from 1 to 100 using a for loop."
   ]
  },
  {
   "cell_type": "code",
   "execution_count": 110,
   "id": "a43f07e7-7eb7-4a1a-97e6-66efddbeacc7",
   "metadata": {},
   "outputs": [
    {
     "name": "stdout",
     "output_type": "stream",
     "text": [
      "5050\n"
     ]
    }
   ],
   "source": [
    "add = 0\n",
    "for item in range(1,101):\n",
    "    add = item + add\n",
    "print(add)"
   ]
  },
  {
   "cell_type": "markdown",
   "id": "7adcc8cd-1a04-4717-9300-9760856ba89a",
   "metadata": {},
   "source": [
    "3) Write a Python program to print the multiplication table of a given number using a\n",
    "   for loop."
   ]
  },
  {
   "cell_type": "code",
   "execution_count": 1,
   "id": "ac803a01-c27d-459d-a213-efdd3a7527ba",
   "metadata": {},
   "outputs": [
    {
     "name": "stdin",
     "output_type": "stream",
     "text": [
      "enter number 4\n"
     ]
    },
    {
     "name": "stdout",
     "output_type": "stream",
     "text": [
      "4 x 1 = 4\n",
      "4 x 2 = 8\n",
      "4 x 3 = 12\n",
      "4 x 4 = 16\n",
      "4 x 5 = 20\n",
      "4 x 6 = 24\n",
      "4 x 7 = 28\n",
      "4 x 8 = 32\n",
      "4 x 9 = 36\n",
      "4 x 10 = 40\n"
     ]
    }
   ],
   "source": [
    "num = int(input(\"enter number\"))\n",
    "for item in range(1,11):\n",
    "    print(num,\"x\",item,\"=\",num*item)"
   ]
  },
  {
   "cell_type": "markdown",
   "id": "ae70e5ca-cb9f-44ab-b6fd-c10dfa3de36b",
   "metadata": {},
   "source": [
    "4) Write a Python program to count the number of even and odd numbers from a\r",
    "   \n",
    "series of numbers using a for loop\n",
    "   Hint: Find even and odd from this list: [1, 2, 3, 4, 5, 6, 7, 8, 9, 10]."
   ]
  },
  {
   "cell_type": "code",
   "execution_count": 111,
   "id": "86aa7d34-f118-4936-adba-0df35d7d3cae",
   "metadata": {},
   "outputs": [
    {
     "name": "stdout",
     "output_type": "stream",
     "text": [
      "total even number is:  5\n",
      "total odd number is: 5\n"
     ]
    }
   ],
   "source": [
    "list1 = [1,2,3,4,5,6,7,8,9,10]\n",
    "count1 = 0\n",
    "count2 = 0\n",
    "for item in list1:\n",
    "    if(item%2==0):\n",
    "        count1 += 1\n",
    "    else:\n",
    "        count2 += 1\n",
    "print(\"total even number is: \",count1)\n",
    "print(\"total odd number is:\", count2)\n",
    "\n",
    " "
   ]
  },
  {
   "cell_type": "markdown",
   "id": "32c58fbd-4cee-4023-8fa2-d9baa4f3280f",
   "metadata": {},
   "source": [
    "5) Write a Python program to find the factorial of a number using a for loop."
   ]
  },
  {
   "cell_type": "code",
   "execution_count": 10,
   "id": "d27609f6-7c2f-4cbb-ac35-a97b3edeb7e6",
   "metadata": {},
   "outputs": [
    {
     "name": "stdin",
     "output_type": "stream",
     "text": [
      "enter number -11\n"
     ]
    },
    {
     "name": "stdout",
     "output_type": "stream",
     "text": [
      "factorial does not exist for negative numbers\n"
     ]
    }
   ],
   "source": [
    "num = int(input(\"enter number\"))\n",
    "factorial = 1\n",
    "if num < 0:\n",
    "   print(\"factorial does not exist for negative numbers\")\n",
    "elif num == 0:\n",
    "   print(\"The factorial of 0 is 1\")\n",
    "else:\n",
    "   for i in range(1,num + 1):\n",
    "       factorial = factorial*i\n",
    "   print(\"The factorial of\",num,\"is\",factorial)"
   ]
  },
  {
   "cell_type": "markdown",
   "id": "65726706-83ec-45f6-ae16-911636240184",
   "metadata": {},
   "source": [
    "6) Write a Python program to print the Fibonacci sequence up to a specified number\r",
    "   \n",
    "using a for loop."
   ]
  },
  {
   "cell_type": "code",
   "execution_count": 20,
   "id": "ccf5bfd4-6e60-4b2e-ac88-d4ce4f76174a",
   "metadata": {},
   "outputs": [
    {
     "name": "stdin",
     "output_type": "stream",
     "text": [
      "how many fibonacci sequence you want : 9\n"
     ]
    },
    {
     "name": "stdout",
     "output_type": "stream",
     "text": [
      "fibonacci sequence 0 1 1 2 3 5 8 13 21 "
     ]
    }
   ],
   "source": [
    "num = int(input(\"how many fibonacci sequence you want :\"))\n",
    "a = 0\n",
    "b = 1\n",
    "c = 0\n",
    "print(\"fibonacci sequence\",a,b,end=\" \")\n",
    "\n",
    "for item in range(0,num-2):\n",
    "    c = a + b\n",
    "    a = b\n",
    "    b = c\n",
    "    print(c,end=\" \")\n",
    "\n",
    "\n"
   ]
  },
  {
   "cell_type": "markdown",
   "id": "2fd46a1b-30b0-428d-9bb1-77fa6c7e3643",
   "metadata": {},
   "source": [
    "7) Write a Python program to check if a given number is prime or not using a for loop."
   ]
  },
  {
   "cell_type": "code",
   "execution_count": 54,
   "id": "eeaa1bd6-7c0f-48ac-b4ac-013f9d2fd41d",
   "metadata": {},
   "outputs": [
    {
     "name": "stdin",
     "output_type": "stream",
     "text": [
      "enter number 7\n"
     ]
    },
    {
     "name": "stdout",
     "output_type": "stream",
     "text": [
      "7 is a prime number\n"
     ]
    }
   ],
   "source": [
    "num = int(input(\"enter number\"))\n",
    "if num > 1:\n",
    "    for i in range(2,(num//2)+1):\n",
    "        if (num % i) == 0:\n",
    "            print(num, \"is not a prime number\")\n",
    "            break\n",
    "    else:\n",
    "        print(num, \"is a prime number\")\n",
    "else:\n",
    "    print(num, \"is not a prime number\")"
   ]
  },
  {
   "cell_type": "markdown",
   "id": "82a69ecf-7313-4c2f-81e8-87ab075b61ec",
   "metadata": {},
   "source": [
    "8) Write a Python program to find the largest element in a list using a for loop."
   ]
  },
  {
   "cell_type": "code",
   "execution_count": 63,
   "id": "23682c87-da7f-452a-b997-5715fdb1bfb8",
   "metadata": {},
   "outputs": [
    {
     "name": "stdin",
     "output_type": "stream",
     "text": [
      "Enter number of elements in list:  5\n",
      "Enter elements:  1\n",
      "Enter elements:  2\n",
      "Enter elements:  3\n",
      "Enter elements:  4\n",
      "Enter elements:  5\n"
     ]
    },
    {
     "name": "stdout",
     "output_type": "stream",
     "text": [
      "Largest element is: 5\n"
     ]
    }
   ],
   "source": [
    "list1 = []\n",
    "num = int(input(\"Enter number of elements in list: \"))\n",
    "for i in range(0, num):\n",
    "    a = int(input(\"Enter elements: \"))\n",
    "    list1.append(a)\n",
    "print(\"Largest element is:\", max(list1))"
   ]
  },
  {
   "cell_type": "markdown",
   "id": "c4abf0a9-0c85-4b5c-88cd-2481bc195836",
   "metadata": {},
   "source": [
    "9) Write a Python program to reverse a given string using a for loop."
   ]
  },
  {
   "cell_type": "code",
   "execution_count": 5,
   "id": "fb8b49ec-a474-4e27-b461-2ba2270ca3d3",
   "metadata": {},
   "outputs": [
    {
     "name": "stdin",
     "output_type": "stream",
     "text": [
      "enter string python\n"
     ]
    },
    {
     "name": "stdout",
     "output_type": "stream",
     "text": [
      "nohtyp\n"
     ]
    }
   ],
   "source": [
    "string = input(\"enter string\")\n",
    "reversed_string = \"\"\n",
    "for char in string:\n",
    "    reversed_string = char+reversed_string\n",
    "print(reversed_string)"
   ]
  },
  {
   "cell_type": "markdown",
   "id": "08f370ef-9f42-4372-bde1-96aa863687b5",
   "metadata": {},
   "source": [
    "10) Write a Python program to find the common elements between two lists using a\r",
    "    \n",
    "for loop\n",
    "    List1 = [1,2,3]\r",
    "    \n",
    "List2 = [4,5,1]        # common element is 1."
   ]
  },
  {
   "cell_type": "code",
   "execution_count": 38,
   "id": "74b20723-4fa7-4dab-b8af-b1367f8de6f6",
   "metadata": {},
   "outputs": [
    {
     "name": "stdout",
     "output_type": "stream",
     "text": [
      "Common elements using lists: [3, 4, 5]\n"
     ]
    }
   ],
   "source": [
    "list1 = [1, 2, 3, 4, 5]\n",
    "list2 = [3, 4, 5, 6, 7]\n",
    "\n",
    "common_elements = []\n",
    "for item in list1:\n",
    "    if item in list2:\n",
    "        \n",
    "        common_elements.append(item)\n",
    "\n",
    "print(\"Common elements using lists:\", common_elements)"
   ]
  }
 ],
 "metadata": {
  "kernelspec": {
   "display_name": "Python 3 (ipykernel)",
   "language": "python",
   "name": "python3"
  },
  "language_info": {
   "codemirror_mode": {
    "name": "ipython",
    "version": 3
   },
   "file_extension": ".py",
   "mimetype": "text/x-python",
   "name": "python",
   "nbconvert_exporter": "python",
   "pygments_lexer": "ipython3",
   "version": "3.12.4"
  }
 },
 "nbformat": 4,
 "nbformat_minor": 5
}
