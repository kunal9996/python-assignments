{
 "cells": [
  {
   "cell_type": "markdown",
   "id": "01a1bd05-415d-4de7-a7d9-be46fc22d526",
   "metadata": {},
   "source": [
    "1. What exactly is []?"
   ]
  },
  {
   "cell_type": "markdown",
   "id": "ee6ce90c-1c24-4a51-a9db-08dda8bf9303",
   "metadata": {},
   "source": [
    "Answer : this is a empty  list."
   ]
  },
  {
   "cell_type": "code",
   "execution_count": 1,
   "id": "75357903-07a4-4a2d-9747-edb8965baf76",
   "metadata": {},
   "outputs": [
    {
     "name": "stdout",
     "output_type": "stream",
     "text": [
      "<class 'list'>\n"
     ]
    }
   ],
   "source": [
    "a = []\n",
    "print(type(a))"
   ]
  },
  {
   "cell_type": "markdown",
   "id": "674fe986-0afd-40f7-aff6-9be234057716",
   "metadata": {},
   "source": [
    "2. In a list of values stored in a variable called spam, how would you assign the value 'hello' as the\r\n",
    "third value? (Assume [2, 4, 6, 8, 10] are in spam.)"
   ]
  },
  {
   "cell_type": "code",
   "execution_count": 11,
   "id": "30f0e5c9-bcba-4475-8da6-763d9a3558be",
   "metadata": {},
   "outputs": [
    {
     "name": "stdout",
     "output_type": "stream",
     "text": [
      "[2, 4, 'hello', 8, 10]\n"
     ]
    }
   ],
   "source": [
    "spam = [2,4,6,8,10]\n",
    "spam[2] = \"hello\"\n",
    "print(spam)\n"
   ]
  },
  {
   "cell_type": "markdown",
   "id": "99381674-60d8-43ec-ae43-bf14754814b3",
   "metadata": {},
   "source": [
    "3. What is the value of spam[int(int('3' * 2) / 11)]?\n",
    "   spam['a','b','c','d']"
   ]
  },
  {
   "cell_type": "code",
   "execution_count": 2,
   "id": "b21b883b-278a-4313-b2cf-e74c8b17c8b8",
   "metadata": {},
   "outputs": [
    {
     "data": {
      "text/plain": [
       "'d'"
      ]
     },
     "execution_count": 2,
     "metadata": {},
     "output_type": "execute_result"
    }
   ],
   "source": [
    "spam = ['a','b','c','d']\n",
    "spam[int(int('3' * 2) / 11)]"
   ]
  },
  {
   "cell_type": "markdown",
   "id": "50d356fb-26bc-460b-a938-e4cdf36ac4d1",
   "metadata": {},
   "source": [
    "4. What is the value of spam[-1]?"
   ]
  },
  {
   "cell_type": "code",
   "execution_count": 3,
   "id": "fbf4bde2-39c8-4a84-b991-ccaf49da0206",
   "metadata": {},
   "outputs": [
    {
     "data": {
      "text/plain": [
       "'d'"
      ]
     },
     "execution_count": 3,
     "metadata": {},
     "output_type": "execute_result"
    }
   ],
   "source": [
    "spam = ['a','b','c','d']\n",
    "spam[-1]"
   ]
  },
  {
   "cell_type": "markdown",
   "id": "08238f99-3337-4638-9a77-f13a10be622d",
   "metadata": {},
   "source": [
    "5. What is the value of spam[:2]?"
   ]
  },
  {
   "cell_type": "code",
   "execution_count": 4,
   "id": "030d0800-ca88-43cf-8b17-351f755fb073",
   "metadata": {},
   "outputs": [
    {
     "data": {
      "text/plain": [
       "['a', 'b']"
      ]
     },
     "execution_count": 4,
     "metadata": {},
     "output_type": "execute_result"
    }
   ],
   "source": [
    "spam = ['a','b','c','d']\n",
    "spam[:2]"
   ]
  },
  {
   "cell_type": "markdown",
   "id": "f25615e8-9a7b-4396-9578-507b3c11dc05",
   "metadata": {},
   "source": [
    "6. What is the value of bacon.index('cat')?\n",
    "   Let's pretend bacon has the list [3.14, 'cat,' 11, 'cat,' True] "
   ]
  },
  {
   "cell_type": "code",
   "execution_count": 5,
   "id": "be79f78c-0bb3-4ba4-bc80-8a0300ad2130",
   "metadata": {},
   "outputs": [
    {
     "data": {
      "text/plain": [
       "1"
      ]
     },
     "execution_count": 5,
     "metadata": {},
     "output_type": "execute_result"
    }
   ],
   "source": [
    "bacon =  [3.14, 'cat' ,11, 'cat', True] \n",
    "bacon.index('cat')"
   ]
  },
  {
   "cell_type": "markdown",
   "id": "40facc0d-5028-4219-9390-3871640b017a",
   "metadata": {},
   "source": [
    "7. How does bacon.append(99) change the look of the list value in bacon?\n",
    "   bacon =  [3.14, 'cat' ,11, 'cat', True] "
   ]
  },
  {
   "cell_type": "code",
   "execution_count": 8,
   "id": "c6504014-b4d5-4e4a-8cc1-098d0765ac6e",
   "metadata": {},
   "outputs": [
    {
     "name": "stdout",
     "output_type": "stream",
     "text": [
      "[3.14, 'cat', 11, 'cat', True, 99]\n"
     ]
    }
   ],
   "source": [
    "bacon =  [3.14, 'cat' ,11, 'cat', True] \n",
    "bacon.append(99)\n",
    "print(bacon)"
   ]
  },
  {
   "cell_type": "markdown",
   "id": "ffee0af7-b5af-4e57-91e2-5af74ffc8deb",
   "metadata": {},
   "source": [
    "8. How does bacon.remove('cat') change the look of the list in bacon?\n",
    "    bacon =  [3.14, 'cat' ,11, 'cat', True]"
   ]
  },
  {
   "cell_type": "code",
   "execution_count": 10,
   "id": "d4bc2399-00f4-4c6c-963c-00c58fc49376",
   "metadata": {},
   "outputs": [
    {
     "name": "stdout",
     "output_type": "stream",
     "text": [
      "[3.14, 11, 'cat', True]\n"
     ]
    }
   ],
   "source": [
    "bacon =  [3.14, 'cat' ,11, 'cat', True] \n",
    "bacon.remove('cat')  #it can remove first occurence of value\n",
    "print(bacon)"
   ]
  },
  {
   "cell_type": "markdown",
   "id": "fbe5921c-16d2-4c71-87be-46af0a1639d9",
   "metadata": {},
   "source": [
    "9. What are the list concatenation and list replication operators?"
   ]
  },
  {
   "cell_type": "markdown",
   "id": "2e44d43c-5675-48f3-8c45-d4b67321e165",
   "metadata": {},
   "source": [
    "Answer : The operator for list concatenation is +, while the operator for replication is *."
   ]
  },
  {
   "cell_type": "markdown",
   "id": "9074d1b6-5a5b-4388-9a10-0192c08062d0",
   "metadata": {},
   "source": [
    "10. What is difference between the list methods append() and insert()?"
   ]
  },
  {
   "cell_type": "code",
   "execution_count": 11,
   "id": "68c3288c-2dbe-446f-bccb-c1f6d4bcd3ad",
   "metadata": {},
   "outputs": [
    {
     "name": "stdout",
     "output_type": "stream",
     "text": [
      "[3.14, 'cat', 11, 'cat', True, 99]\n"
     ]
    }
   ],
   "source": [
    "#append() will add values only to the end of a list.\n",
    "bacon =  [3.14, 'cat' ,11, 'cat', True] \n",
    "bacon.append(99)\n",
    "print(bacon)"
   ]
  },
  {
   "cell_type": "code",
   "execution_count": 13,
   "id": "5a11e99d-8818-483a-9a8c-6b8224e0734b",
   "metadata": {},
   "outputs": [
    {
     "name": "stdout",
     "output_type": "stream",
     "text": [
      "[3.14, 99, 'cat', 11, 'cat', True]\n"
     ]
    }
   ],
   "source": [
    "#insert() can add them anywhere in the list.\n",
    "bacon =  [3.14, 'cat' ,11, 'cat', True] \n",
    "bacon.insert(1,99)  #Insert object before index.\n",
    "print(bacon)"
   ]
  },
  {
   "cell_type": "markdown",
   "id": "854dc80a-0c3f-4fb4-a534-b1bc218b7b2d",
   "metadata": {},
   "source": [
    "11. What are the two methods for removing items from a list?"
   ]
  },
  {
   "cell_type": "code",
   "execution_count": 15,
   "id": "e0e0f098-856a-4284-bc39-4b0b9c757538",
   "metadata": {},
   "outputs": [
    {
     "name": "stdout",
     "output_type": "stream",
     "text": [
      "[3.14, 11, 'cat', True]\n"
     ]
    }
   ],
   "source": [
    "\"\"\"pop () method: pop will remove specified index element. However, if your do not specify any index number \n",
    "inside method it will remove last element of the list.\"\"\"\n",
    "bacon =  [3.14, 'cat' ,11, 'cat', True] \n",
    "bacon.pop(1) #Remove and return item at index (default last).\n",
    "print(bacon)"
   ]
  },
  {
   "cell_type": "code",
   "execution_count": 17,
   "id": "9bd00b1a-e8d5-417b-9c35-4d91d009a5af",
   "metadata": {},
   "outputs": [
    {
     "name": "stdout",
     "output_type": "stream",
     "text": [
      "[3.14, 11, 'cat', True]\n"
     ]
    }
   ],
   "source": [
    "#remove () method: will remove specified element.\n",
    "bacon =  [3.14, 'cat' ,11, 'cat', True] \n",
    "bacon.remove('cat') #Remove first occurrence of value.\n",
    "print(bacon)"
   ]
  },
  {
   "cell_type": "markdown",
   "id": "737c4622-dd02-4c8e-82f0-f3ed98526ea0",
   "metadata": {},
   "source": [
    "12. Describe how list values and string values are identical."
   ]
  },
  {
   "cell_type": "markdown",
   "id": "750765e9-7331-4da6-aad3-7a30f95040ae",
   "metadata": {},
   "source": [
    "Both lists and strings can be passed to len(), have indexes and slices, be used in for loops, be concatenated or replicated, and be used with the in and not in operators."
   ]
  },
  {
   "cell_type": "markdown",
   "id": "5d48f97c-1355-4d82-94a8-f582958c4be7",
   "metadata": {},
   "source": [
    "13. What's the difference between tuples and lists?"
   ]
  },
  {
   "cell_type": "markdown",
   "id": "02c08edd-51f9-400e-9757-6e2c403323a3",
   "metadata": {},
   "source": [
    "Answer : Lists are mutable; they can have values added, removed, or changed. Tuples are immutable; they cannot be changed at all.\n",
    "         tuples are written using parentheses, ( and ), while lists use the square brackets, [ and ]."
   ]
  },
  {
   "cell_type": "markdown",
   "id": "3c393065-4288-4168-a1c4-3c8b7df59447",
   "metadata": {},
   "source": [
    "14. How do you type a tuple value that only contains the integer 42?"
   ]
  },
  {
   "cell_type": "code",
   "execution_count": 26,
   "id": "060934be-dcc5-4652-9da8-fd4dcdb12231",
   "metadata": {},
   "outputs": [
    {
     "name": "stdout",
     "output_type": "stream",
     "text": [
      "<class 'tuple'>\n"
     ]
    }
   ],
   "source": [
    "a = (42,)\n",
    "print(type(a))"
   ]
  },
  {
   "cell_type": "markdown",
   "id": "1fbdd1a7-1c58-4d10-b2e3-063980add7c3",
   "metadata": {},
   "source": [
    "15. How do you get a list value's tuple form? How do you get a tuple value's list form?"
   ]
  },
  {
   "cell_type": "code",
   "execution_count": 27,
   "id": "32166ccd-4c94-465e-8fc1-b8b58df46584",
   "metadata": {},
   "outputs": [
    {
     "name": "stdout",
     "output_type": "stream",
     "text": [
      "(2, 3, 4)\n",
      "<class 'tuple'>\n"
     ]
    }
   ],
   "source": [
    "#get a list value's tuple form\n",
    "a  = [2,3,4]\n",
    "b = tuple(a)   #tuple function\n",
    "print(b)\n",
    "print(type(b))"
   ]
  },
  {
   "cell_type": "code",
   "execution_count": 29,
   "id": "77387c54-d808-4b67-ba0c-16ce8affd6ea",
   "metadata": {},
   "outputs": [
    {
     "name": "stdout",
     "output_type": "stream",
     "text": [
      "[2]\n",
      "<class 'list'>\n"
     ]
    }
   ],
   "source": [
    "#get a tuple value's list form\n",
    "a = (2,)\n",
    "b = list(a)\n",
    "print(b)\n",
    "print(type(b))"
   ]
  },
  {
   "cell_type": "markdown",
   "id": "1d61585b-7ed6-4546-a64e-b8f4a9c9361e",
   "metadata": {},
   "source": [
    "16. Variables that \"contain\" list values are not necessarily lists themselves. Instead, what do they contain?"
   ]
  },
  {
   "cell_type": "markdown",
   "id": "871635cc-66d0-4a29-b66d-6625f7faefbe",
   "metadata": {},
   "source": [
    "Answer :  They contain references to list values."
   ]
  },
  {
   "cell_type": "markdown",
   "id": "5972b98c-ae79-4f64-98c1-088e776d2999",
   "metadata": {},
   "source": [
    "17. How do you distinguish between copy.copy() and copy.deepcopy()?"
   ]
  },
  {
   "cell_type": "markdown",
   "id": "b5522563-9aa3-4d5c-b41c-34ca8e26ff21",
   "metadata": {},
   "source": [
    "Answer : The copy.copy() function will do a shallow copy of a list.\n",
    "         The copy.deepcopy() function will do a deep copy of a list. only copy.deepcopy() will duplicate any lists inside the list\n"
   ]
  },
  {
   "cell_type": "code",
   "execution_count": 32,
   "id": "a08ddad5-915f-4ac9-baff-383302b46a5c",
   "metadata": {},
   "outputs": [
    {
     "name": "stdout",
     "output_type": "stream",
     "text": [
      "['kunal', 'sachin', 'hr']\n",
      "['kunal', 'sachin', 'hr']\n"
     ]
    }
   ],
   "source": [
    "#copy.copy()\n",
    "old_list = [\"kunal\",\"sachin\"] \n",
    "New_list = old_list \n",
    "old_list.append(\"hr\") \n",
    "print(old_list) \n",
    "print(New_list)"
   ]
  },
  {
   "cell_type": "code",
   "execution_count": 30,
   "id": "1519148b-ba90-45f0-a195-30c1143b6d9f",
   "metadata": {},
   "outputs": [
    {
     "name": "stdout",
     "output_type": "stream",
     "text": [
      "['kunal', 'sachin', 'new_item']\n",
      "['kunal', 'sachin', 'new_item2']\n"
     ]
    }
   ],
   "source": [
    "#copy.deepcopy()\n",
    "import copy \n",
    "old_list = [\"kunal\",\"sachin\"] \n",
    "new_list = copy.deepcopy(old_list) \n",
    "old_list.append(\"new_item\") \n",
    "new_list.append(\"new_item2\") \n",
    " \n",
    "print(old_list) \n",
    " \n",
    "print(new_list)"
   ]
  }
 ],
 "metadata": {
  "kernelspec": {
   "display_name": "Python 3 (ipykernel)",
   "language": "python",
   "name": "python3"
  },
  "language_info": {
   "codemirror_mode": {
    "name": "ipython",
    "version": 3
   },
   "file_extension": ".py",
   "mimetype": "text/x-python",
   "name": "python",
   "nbconvert_exporter": "python",
   "pygments_lexer": "ipython3",
   "version": "3.12.4"
  }
 },
 "nbformat": 4,
 "nbformat_minor": 5
}
