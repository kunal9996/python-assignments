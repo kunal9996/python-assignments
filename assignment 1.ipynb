{
 "cells": [
  {
   "cell_type": "markdown",
   "id": "81c87dc5-b4dd-4b38-8206-59fbdec89c60",
   "metadata": {},
   "source": [
    "1) how do you concatenate two strings in python?"
   ]
  },
  {
   "cell_type": "code",
   "execution_count": 10,
   "id": "db832552-ab27-4dbf-8a56-01832a2486a7",
   "metadata": {},
   "outputs": [
    {
     "name": "stdout",
     "output_type": "stream",
     "text": [
      "kunal mishra\n"
     ]
    }
   ],
   "source": [
    "name = (\"kunal\")\n",
    "surname = (\"mishra\")\n",
    "print(name,surname  )"
   ]
  },
  {
   "cell_type": "markdown",
   "id": "a5c7f397-9af9-47b1-83ee-e2e41c54c8bc",
   "metadata": {},
   "source": [
    "2) what is a defference between the + operators and the join() methed for concatenating strings?"
   ]
  },
  {
   "cell_type": "code",
   "execution_count": 39,
   "id": "c4b65a2c-3415-46d7-a3c8-d7d9479bb8c8",
   "metadata": {},
   "outputs": [
    {
     "name": "stdout",
     "output_type": "stream",
     "text": [
      "kunal mishra\n"
     ]
    }
   ],
   "source": [
    "# +operators\n",
    "string = (\"kunal \")\n",
    "string1 =  (\"mishra\")\n",
    "name = string + string1\n",
    "print(name)\n"
   ]
  },
  {
   "cell_type": "code",
   "execution_count": 41,
   "id": "ea3bf2fc-001b-4ba3-a1b0-089d94252bb5",
   "metadata": {},
   "outputs": [
    {
     "name": "stdout",
     "output_type": "stream",
     "text": [
      "kunal mishra\n"
     ]
    }
   ],
   "source": [
    "# join() method\n",
    "name = (\"kunal\")\n",
    "surname = (\"mishra\")\n",
    "full_name = (\" \".join([name,surname]))\n",
    "print(full_name)"
   ]
  },
  {
   "cell_type": "markdown",
   "id": "2e3fffa6-fb68-4a63-ab1a-34b3807843ef",
   "metadata": {},
   "source": [
    "3) how do you access individual  chracters in a string?"
   ]
  },
  {
   "cell_type": "code",
   "execution_count": 51,
   "id": "e236e08a-942c-4efd-bf26-fa1bff7102a5",
   "metadata": {},
   "outputs": [
    {
     "name": "stdout",
     "output_type": "stream",
     "text": [
      "r\n"
     ]
    }
   ],
   "source": [
    "string = \"hello world\"\n",
    "print(string[8])"
   ]
  },
  {
   "cell_type": "markdown",
   "id": "365a96e3-ba88-49e5-8f3a-9e4ab4cce5b9",
   "metadata": {},
   "source": [
    "4) what method is used to find the length of a string in python?"
   ]
  },
  {
   "cell_type": "code",
   "execution_count": 44,
   "id": "d58348fd-37c4-45bb-bf56-426d679fdede",
   "metadata": {},
   "outputs": [
    {
     "name": "stdout",
     "output_type": "stream",
     "text": [
      "23\n"
     ]
    }
   ],
   "source": [
    "str = \"my name is kunal mishra\"\n",
    "print(len(str))"
   ]
  },
  {
   "cell_type": "markdown",
   "id": "4277d409-bf46-469a-ab94-7831aea39bdc",
   "metadata": {},
   "source": [
    "5) how can you convert a string to uppercase in python?"
   ]
  },
  {
   "cell_type": "code",
   "execution_count": 45,
   "id": "c4641d4d-8b60-4cd2-a62c-5e0b958c1183",
   "metadata": {},
   "outputs": [
    {
     "name": "stdout",
     "output_type": "stream",
     "text": [
      "KUNAL\n"
     ]
    }
   ],
   "source": [
    "string = (\"kunal\").upper()\n",
    "print(string)"
   ]
  },
  {
   "cell_type": "markdown",
   "id": "21ce4fe5-065c-4b75-9862-2830ede1f3d4",
   "metadata": {},
   "source": [
    "6) how can you convert a string to lowercase in python?"
   ]
  },
  {
   "cell_type": "code",
   "execution_count": 46,
   "id": "6062aac9-d028-4b6b-ba09-95704b34e128",
   "metadata": {},
   "outputs": [
    {
     "name": "stdout",
     "output_type": "stream",
     "text": [
      "kunal\n"
     ]
    }
   ],
   "source": [
    "string = (\"KUNAL\").lower()\n",
    "print(string)"
   ]
  },
  {
   "cell_type": "markdown",
   "id": "e6ba0d1a-66fd-4380-9a71-9ab86a35bb41",
   "metadata": {},
   "source": [
    "7) what method is used to replace substrings within a string?"
   ]
  },
  {
   "cell_type": "code",
   "execution_count": 51,
   "id": "4c293aa5-0cf7-4468-bbca-851753763c9c",
   "metadata": {},
   "outputs": [
    {
     "name": "stdout",
     "output_type": "stream",
     "text": [
      "i like mango\n"
     ]
    }
   ],
   "source": [
    "string = \"i like apple\"\n",
    "replace = (string).replace(\"apple\",\"mango\")\n",
    "print(replace)"
   ]
  },
  {
   "cell_type": "markdown",
   "id": "aa32cfe1-00d1-4511-8fcc-7bc3aefc1cd6",
   "metadata": {},
   "source": [
    "8) how can you split a string into a list of substrings based on a delimiter?"
   ]
  },
  {
   "cell_type": "code",
   "execution_count": 59,
   "id": "180f3f93-27e7-4645-a46a-cd846f92cadd",
   "metadata": {},
   "outputs": [
    {
     "name": "stdout",
     "output_type": "stream",
     "text": [
      "['hello, world']\n"
     ]
    }
   ],
   "source": [
    "string = (\"hello, world\")\n",
    "x = (string).split(\" ,\")\n",
    "print(x)"
   ]
  },
  {
   "cell_type": "markdown",
   "id": "a75073b9-7cb9-4903-aba5-041afecc4823",
   "metadata": {},
   "source": [
    "9) how do you check if a string starts with a particular substring?"
   ]
  },
  {
   "cell_type": "code",
   "execution_count": 81,
   "id": "3394b4ca-a157-4074-883e-fc9943a32358",
   "metadata": {},
   "outputs": [
    {
     "name": "stdout",
     "output_type": "stream",
     "text": [
      "True\n"
     ]
    }
   ],
   "source": [
    "string = (\"kunal\")\n",
    "x = (string).startswith(\"k\")\n",
    "print(x)"
   ]
  },
  {
   "cell_type": "markdown",
   "id": "4148fb29-7a6b-4df4-b594-e10108761a6e",
   "metadata": {},
   "source": [
    "10) how do you check if a string ends with a particular substring?"
   ]
  },
  {
   "cell_type": "code",
   "execution_count": 79,
   "id": "82a3edec-4d51-4a90-9983-f458f2b5a96b",
   "metadata": {},
   "outputs": [
    {
     "name": "stdout",
     "output_type": "stream",
     "text": [
      "True\n"
     ]
    }
   ],
   "source": [
    "string = (\"my name is kunal!\").endswith(\"!\")\n",
    "print(string)"
   ]
  },
  {
   "cell_type": "code",
   "execution_count": 60,
   "id": "2b3b065b-0c53-43d6-8a21-7d9421659d80",
   "metadata": {},
   "outputs": [
    {
     "name": "stdout",
     "output_type": "stream",
     "text": [
      "False\n"
     ]
    }
   ],
   "source": [
    "string = (\"my name is kunal!\").endswith(\"y\")\n",
    "print(string)"
   ]
  },
  {
   "cell_type": "markdown",
   "id": "41bdf11a-6e76-4f41-867d-b60fcc990bfe",
   "metadata": {},
   "source": [
    "11) How can you remove leading and trailing whitespace from a string?"
   ]
  },
  {
   "cell_type": "code",
   "execution_count": 22,
   "id": "ce14540d-aa2a-4bee-97a0-002ebcc385ee",
   "metadata": {},
   "outputs": [
    {
     "name": "stdout",
     "output_type": "stream",
     "text": [
      "my name is kunal\n"
     ]
    }
   ],
   "source": [
    "string = \"                           kunal                      \"\n",
    "x = string.strip()\n",
    "print(\"my name is\",x)"
   ]
  },
  {
   "cell_type": "markdown",
   "id": "b48486b2-4026-4031-bb7e-909db5adb6bb",
   "metadata": {},
   "source": [
    "12) What method is used to find the index of the first occurrence of a substring within a\r",
    "    \n",
    "string?"
   ]
  },
  {
   "cell_type": "code",
   "execution_count": 37,
   "id": "7a65a4ad-cc7e-4ed3-89ca-56f1dfd49154",
   "metadata": {},
   "outputs": [
    {
     "name": "stdout",
     "output_type": "stream",
     "text": [
      "3\n"
     ]
    }
   ],
   "source": [
    "string = (\"my name is sachin, i am student of ducat\").index(\"name\")\n",
    "print(string)"
   ]
  },
  {
   "cell_type": "markdown",
   "id": "37dbdf5e-6f5a-4ea5-ac74-1e83bc66a9f3",
   "metadata": {},
   "source": [
    "13) How can you count the number of occurrences of a substring within a string?"
   ]
  },
  {
   "cell_type": "code",
   "execution_count": 32,
   "id": "04b93c0c-1a21-4136-b79b-07d02b360634",
   "metadata": {},
   "outputs": [
    {
     "name": "stdout",
     "output_type": "stream",
     "text": [
      "1\n"
     ]
    }
   ],
   "source": [
    "string = (\"my name is kunal, i am  studend\").count(\"kunal\")\n",
    "print(string)\n"
   ]
  },
  {
   "cell_type": "markdown",
   "id": "aea84289-ea08-4fdd-90b3-1d3c2442530a",
   "metadata": {},
   "source": [
    "14) How do you check if a string contains only alphabetic characters?"
   ]
  },
  {
   "cell_type": "code",
   "execution_count": 33,
   "id": "a20ba217-48cb-479e-b906-7a11cc7ed3bc",
   "metadata": {},
   "outputs": [
    {
     "name": "stdout",
     "output_type": "stream",
     "text": [
      "True\n"
     ]
    }
   ],
   "source": [
    "string = (\"kunal\").isalpha()\n",
    "print(string)"
   ]
  },
  {
   "cell_type": "code",
   "execution_count": 34,
   "id": "51f30463-5be6-484f-a5d9-79079da28b5a",
   "metadata": {},
   "outputs": [
    {
     "name": "stdout",
     "output_type": "stream",
     "text": [
      "False\n"
     ]
    }
   ],
   "source": [
    "string = (\"kunal11\").isalpha()\n",
    "print(string)"
   ]
  },
  {
   "cell_type": "markdown",
   "id": "6ea3d4f2-692f-4833-a7be-c3fbb7d95280",
   "metadata": {},
   "source": [
    "15) How do you check if a string contains only numeric characters?"
   ]
  },
  {
   "cell_type": "code",
   "execution_count": 38,
   "id": "56418d48-ce6b-4c63-8982-a9b7c77cce3d",
   "metadata": {},
   "outputs": [
    {
     "name": "stdout",
     "output_type": "stream",
     "text": [
      "True\n"
     ]
    }
   ],
   "source": [
    "string = (\"5454\").isdecimal()\n",
    "print(string)"
   ]
  },
  {
   "cell_type": "code",
   "execution_count": 39,
   "id": "887e208c-878a-4922-b59e-752799b0d293",
   "metadata": {},
   "outputs": [
    {
     "name": "stdout",
     "output_type": "stream",
     "text": [
      "False\n"
     ]
    }
   ],
   "source": [
    "string = (\"5454kunal\").isdecimal()\n",
    "print(string)"
   ]
  },
  {
   "cell_type": "markdown",
   "id": "5c4739b8-6938-43db-a86e-4ae6f8cfe53a",
   "metadata": {},
   "source": [
    "16) How can you check if a string is a palindrome?"
   ]
  },
  {
   "cell_type": "code",
   "execution_count": 70,
   "id": "1888c619-9343-4e4b-b5a2-2dd172683654",
   "metadata": {},
   "outputs": [
    {
     "name": "stdin",
     "output_type": "stream",
     "text": [
      "enter string: kunal\n"
     ]
    },
    {
     "name": "stdout",
     "output_type": "stream",
     "text": [
      "not palindrome\n"
     ]
    }
   ],
   "source": [
    "string = input(\"enter string:\")\n",
    "x = (string[-1::-1])\n",
    "if(string==x):\n",
    "    print(\"palindrome\")\n",
    "else:\n",
    "    print(\"not palindrome\")"
   ]
  },
  {
   "cell_type": "code",
   "execution_count": 71,
   "id": "67a9c8ae-7fbc-413c-8a54-c3d36c96fa82",
   "metadata": {},
   "outputs": [
    {
     "name": "stdin",
     "output_type": "stream",
     "text": [
      "enter string: madam\n"
     ]
    },
    {
     "name": "stdout",
     "output_type": "stream",
     "text": [
      "palindrome\n"
     ]
    }
   ],
   "source": [
    "string = input(\"enter string:\")\n",
    "x = (string[-1::-1])\n",
    "if(string==x):\n",
    "    print(\"palindrome\")\n",
    "else:\n",
    "    print(\"not palindrome\")"
   ]
  },
  {
   "cell_type": "markdown",
   "id": "9d8268c2-dc71-451e-ba86-a6e346fe8ff3",
   "metadata": {},
   "source": [
    "17) How can you reverse a string in Python?"
   ]
  },
  {
   "cell_type": "code",
   "execution_count": 76,
   "id": "9fe7c476-5a03-4b62-842b-500841a8ac8b",
   "metadata": {},
   "outputs": [
    {
     "name": "stdout",
     "output_type": "stream",
     "text": [
      "['python', 'kunal', 'java']\n"
     ]
    }
   ],
   "source": [
    "string =  [\"java\", \"kunal\", \"python\"]\n",
    "x = string[::-1]\n",
    "print(x)"
   ]
  },
  {
   "cell_type": "markdown",
   "id": "ec2f34b8-2cbc-4073-8dde-03298174a6d7",
   "metadata": {},
   "source": [
    "18) How do you format a string with placeholders for variable values?"
   ]
  },
  {
   "cell_type": "code",
   "execution_count": 82,
   "id": "c2b08bbd-3d72-4a24-bd1a-1195b14eb6f3",
   "metadata": {},
   "outputs": [
    {
     "name": "stdin",
     "output_type": "stream",
     "text": [
      "enter name kunal\n",
      "enter subject python \n",
      "enter coaching name ducat\n"
     ]
    },
    {
     "name": "stdout",
     "output_type": "stream",
     "text": [
      "my name is kunal and i am learning python  and i am a student of ducat\n"
     ]
    }
   ],
   "source": [
    "#my name is______________ and i am learning______________and i am a student of _____________.\n",
    "name = input(\"enter name\")\n",
    "learning = input(\"enter subject\")\n",
    "coaching = input(\"enter coaching name\")\n",
    "print(\"my name is {0} and i am learning {1} and i am a student of {2}\".format(name, learning, coaching))"
   ]
  },
  {
   "cell_type": "markdown",
   "id": "9a9ffe9a-446a-4266-8618-ffea4cd04575",
   "metadata": {},
   "source": [
    "19) How do you access a substring of a string using slicing?"
   ]
  },
  {
   "cell_type": "code",
   "execution_count": 95,
   "id": "094ac703-7171-4c51-b042-1eede619aeda",
   "metadata": {},
   "outputs": [
    {
     "name": "stdout",
     "output_type": "stream",
     "text": [
      "kunal \n"
     ]
    }
   ],
   "source": [
    "string = (\"my name is kunal and i am learning python  and i am a student of ducat\")\n",
    "print(string[11:17])"
   ]
  },
  {
   "cell_type": "markdown",
   "id": "dfd55111-ea30-453f-adf6-8b29fa6e1d6c",
   "metadata": {},
   "source": [
    "20) How can you remove specific characters from a string in Python?"
   ]
  },
  {
   "cell_type": "code",
   "execution_count": 96,
   "id": "ad42359b-ede8-48c0-98fc-bb1efab9e428",
   "metadata": {},
   "outputs": [
    {
     "name": "stdout",
     "output_type": "stream",
     "text": [
      "java kunal python\n"
     ]
    }
   ],
   "source": [
    "string =  (\"java kunals python\")\n",
    "x = string.replace(\"s\",\"\")\n",
    "print(x)"
   ]
  }
 ],
 "metadata": {
  "kernelspec": {
   "display_name": "Python 3 (ipykernel)",
   "language": "python",
   "name": "python3"
  },
  "language_info": {
   "codemirror_mode": {
    "name": "ipython",
    "version": 3
   },
   "file_extension": ".py",
   "mimetype": "text/x-python",
   "name": "python",
   "nbconvert_exporter": "python",
   "pygments_lexer": "ipython3",
   "version": "3.12.4"
  }
 },
 "nbformat": 4,
 "nbformat_minor": 5
}
