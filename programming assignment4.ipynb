{
 "cells": [
  {
   "cell_type": "markdown",
   "id": "6b3dba33-9ad9-464d-97d4-00d8ba923bb6",
   "metadata": {},
   "source": [
    "1. Write a Python Program to Find the Factorial of a Number?"
   ]
  },
  {
   "cell_type": "code",
   "execution_count": 22,
   "id": "cd86deea-7bee-48a2-ab64-c404316a19f4",
   "metadata": {},
   "outputs": [
    {
     "name": "stdin",
     "output_type": "stream",
     "text": [
      "enter number 3\n"
     ]
    },
    {
     "name": "stdout",
     "output_type": "stream",
     "text": [
      "The factorial of 3 is : 6\n"
     ]
    }
   ],
   "source": [
    "num = int(input(\"enter number\"))\n",
    "factorial = 1\n",
    "if num < 0:\n",
    "   print(\"factorial does not exist for negative numbers\")\n",
    "elif num == 0:\n",
    "   print(\"The factorial of 0 is 1\")\n",
    "else:\n",
    "   for i in range(1,num + 1):\n",
    "       factorial = factorial*i\n",
    "   print(f\"The factorial of {num} is :\" ,factorial)"
   ]
  },
  {
   "cell_type": "markdown",
   "id": "a50f3bad-34fb-4f69-abe1-d5eb41ec335c",
   "metadata": {},
   "source": [
    "2. Write a Python Program to Display the multiplication Table?"
   ]
  },
  {
   "cell_type": "code",
   "execution_count": 15,
   "id": "d18e806c-78fa-404e-829f-14bb74a52ad9",
   "metadata": {},
   "outputs": [
    {
     "name": "stdin",
     "output_type": "stream",
     "text": [
      "enter number 5\n"
     ]
    },
    {
     "name": "stdout",
     "output_type": "stream",
     "text": [
      "5 x 1 =  5\n",
      "5 x 2 =  10\n",
      "5 x 3 =  15\n",
      "5 x 4 =  20\n",
      "5 x 5 =  25\n",
      "5 x 6 =  30\n",
      "5 x 7 =  35\n",
      "5 x 8 =  40\n",
      "5 x 9 =  45\n",
      "5 x 10 =  50\n"
     ]
    }
   ],
   "source": [
    "num = int(input(\"enter number\"))\n",
    "for item in range(1,11):\n",
    "    mul = item * num\n",
    "    print(f\"{num} x {item} = \" ,mul)"
   ]
  },
  {
   "cell_type": "markdown",
   "id": "db3b42c5-590e-4c22-b2ce-20836531f75a",
   "metadata": {},
   "source": [
    "3. Write a Python Program to Print the Fibonacci sequence?"
   ]
  },
  {
   "cell_type": "code",
   "execution_count": 26,
   "id": "c5b4cc4e-77c1-4409-82e5-35967209aefe",
   "metadata": {},
   "outputs": [
    {
     "name": "stdin",
     "output_type": "stream",
     "text": [
      "how many fibonacci sequence you want : 5\n"
     ]
    },
    {
     "name": "stdout",
     "output_type": "stream",
     "text": [
      "fibonacci sequence 0 1 1 2 3 "
     ]
    }
   ],
   "source": [
    "num = int(input(\"how many fibonacci sequence you want :\"))\n",
    "a = 0\n",
    "b = 1\n",
    "c = 0\n",
    "print(\"fibonacci sequence\",a,b,end=\" \")\n",
    "\n",
    "for item in range(0,num-2):\n",
    "    c = a + b\n",
    "    a = b\n",
    "    b = c\n",
    "    print(c,end=\" \")"
   ]
  },
  {
   "cell_type": "markdown",
   "id": "c895a346-b5bf-41e7-b1c6-8cf719f50c9e",
   "metadata": {},
   "source": [
    "4. Write a Python Program to Check Armstrong Number?"
   ]
  },
  {
   "cell_type": "code",
   "execution_count": 37,
   "id": "08a31dd8-6e35-4484-82e6-e6698da9f95a",
   "metadata": {},
   "outputs": [
    {
     "name": "stdin",
     "output_type": "stream",
     "text": [
      "Enter a number:  407\n"
     ]
    },
    {
     "name": "stdout",
     "output_type": "stream",
     "text": [
      "407 is an Armstrong number\n"
     ]
    }
   ],
   "source": [
    "num = int(input(\"Enter a number: \"))\n",
    "sum = 0\n",
    "temp = num\n",
    "while temp > 0:\n",
    "   digit = temp % 10\n",
    "   sum += digit ** 3\n",
    "   temp //= 10\n",
    "if num == sum:\n",
    "   print(num,\"is an Armstrong number\")\n",
    "else:\n",
    "   print(num,\"is not an Armstrong number\")\n"
   ]
  },
  {
   "cell_type": "markdown",
   "id": "7271b68a-3ee9-4dca-8a47-b939cc735762",
   "metadata": {},
   "source": [
    "5. Write a Python Program to Find Armstrong Number in an Interval?"
   ]
  },
  {
   "cell_type": "code",
   "execution_count": 52,
   "id": "0a101709-0e04-4ce6-941f-6a0e314fb61a",
   "metadata": {},
   "outputs": [
    {
     "name": "stdout",
     "output_type": "stream",
     "text": [
      "Armstrong number between 100-2000 :\n",
      "153\n",
      "Armstrong number between 100-2000 :\n",
      "370\n",
      "Armstrong number between 100-2000 :\n",
      "371\n",
      "Armstrong number between 100-2000 :\n",
      "407\n",
      "Armstrong number between 100-2000 :\n",
      "1634\n"
     ]
    }
   ],
   "source": [
    "lower = 100\n",
    "upper = 2000\n",
    "for num in range(lower, upper + 1):\n",
    "   order = len(str(num))\n",
    "   sum = 0\n",
    "\n",
    "   temp = num\n",
    "   while temp > 0:\n",
    "       digit = temp % 10\n",
    "       sum += digit ** order\n",
    "       temp //= 10\n",
    "\n",
    "   if num == sum:\n",
    "       print(f\"Armstrong number between {lower}-{upper} :\")\n",
    "       print(num)\n"
   ]
  },
  {
   "cell_type": "markdown",
   "id": "d3277b4f-0e63-465e-b9b3-a49b34361338",
   "metadata": {},
   "source": [
    "6. Write a Python Program to Find the Sum of Natural Numbers?"
   ]
  },
  {
   "cell_type": "code",
   "execution_count": 58,
   "id": "faec663c-4307-4ab2-9423-20210f0ddd3f",
   "metadata": {},
   "outputs": [
    {
     "name": "stdin",
     "output_type": "stream",
     "text": [
      "enter number 5\n"
     ]
    },
    {
     "name": "stdout",
     "output_type": "stream",
     "text": [
      "The sum is 15\n"
     ]
    }
   ],
   "source": [
    "num = int(input(\"enter number\"))\n",
    "if num < 0:\n",
    "   print(\"Enter a positive number\")\n",
    "else:\n",
    "   sum = 0\n",
    "   while(num > 0):\n",
    "       sum += num\n",
    "       num -= 1\n",
    "   print(\"The sum is\", sum)"
   ]
  }
 ],
 "metadata": {
  "kernelspec": {
   "display_name": "Python 3 (ipykernel)",
   "language": "python",
   "name": "python3"
  },
  "language_info": {
   "codemirror_mode": {
    "name": "ipython",
    "version": 3
   },
   "file_extension": ".py",
   "mimetype": "text/x-python",
   "name": "python",
   "nbconvert_exporter": "python",
   "pygments_lexer": "ipython3",
   "version": "3.12.4"
  }
 },
 "nbformat": 4,
 "nbformat_minor": 5
}
