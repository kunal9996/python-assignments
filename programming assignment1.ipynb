{
 "cells": [
  {
   "cell_type": "markdown",
   "id": "16527d3b-2d2d-40ae-849b-d4c48980f6d9",
   "metadata": {},
   "source": [
    "1. Write a Python program to print \"Hello Python\"?"
   ]
  },
  {
   "cell_type": "code",
   "execution_count": 1,
   "id": "9c3fa3b6-51f4-4bb8-afbc-fa9a00e1ac8a",
   "metadata": {},
   "outputs": [
    {
     "name": "stdout",
     "output_type": "stream",
     "text": [
      "Hello Python\n"
     ]
    }
   ],
   "source": [
    "print(\"Hello Python\")"
   ]
  },
  {
   "cell_type": "markdown",
   "id": "e0e1ec3a-ecde-45f6-9fc1-525b27b922e5",
   "metadata": {},
   "source": [
    "2. Write a Python program to do arithmetical operations addition and division.?"
   ]
  },
  {
   "cell_type": "code",
   "execution_count": 2,
   "id": "993fad00-6350-4006-818d-d8afb917d830",
   "metadata": {},
   "outputs": [
    {
     "name": "stdout",
     "output_type": "stream",
     "text": [
      "7\n"
     ]
    }
   ],
   "source": [
    "print(3+4)"
   ]
  },
  {
   "cell_type": "code",
   "execution_count": 3,
   "id": "a31aaa66-4595-471e-92e6-b619bcc3d20b",
   "metadata": {},
   "outputs": [
    {
     "name": "stdout",
     "output_type": "stream",
     "text": [
      "5.0\n"
     ]
    }
   ],
   "source": [
    "print(10/2)"
   ]
  },
  {
   "cell_type": "markdown",
   "id": "f227175e-58b3-458a-a5c4-72f71e8a84bf",
   "metadata": {},
   "source": [
    "3. Write a Python program to find the area of a triangle?"
   ]
  },
  {
   "cell_type": "code",
   "execution_count": 8,
   "id": "d091cd73-078d-4388-ae3d-7aa6e7dac8d7",
   "metadata": {},
   "outputs": [
    {
     "name": "stdin",
     "output_type": "stream",
     "text": [
      "enter height 20\n",
      "enter base 10\n"
     ]
    },
    {
     "name": "stdout",
     "output_type": "stream",
     "text": [
      "100.0\n"
     ]
    }
   ],
   "source": [
    "height = int(input(\"enter height\"))\n",
    "base = int(input(\"enter base\"))\n",
    "area = 1/2 * base * height\n",
    "print(area)"
   ]
  },
  {
   "cell_type": "markdown",
   "id": "6527850f-e20d-4ec9-9aa2-461ab48a14be",
   "metadata": {},
   "source": [
    "4. Write a Python program to swap two variables?"
   ]
  },
  {
   "cell_type": "code",
   "execution_count": 15,
   "id": "4ba3df71-efcf-4ede-b099-2524963ac074",
   "metadata": {},
   "outputs": [
    {
     "name": "stdout",
     "output_type": "stream",
     "text": [
      "value of a 20\n",
      "value of value b 10\n"
     ]
    }
   ],
   "source": [
    "a = 10\n",
    "b = 20\n",
    "x= a\n",
    "a = b\n",
    "b = x\n",
    "print(\"value of a\", a)\n",
    "print(\"value of value b\", b)"
   ]
  },
  {
   "cell_type": "markdown",
   "id": "0dd4c40c-9004-4413-955c-71d33b1a20ab",
   "metadata": {},
   "source": [
    "5. Write a Python program to generate a random number?"
   ]
  },
  {
   "cell_type": "code",
   "execution_count": 22,
   "id": "4072acd0-1d0d-4c13-8428-0da5472f5326",
   "metadata": {},
   "outputs": [
    {
     "name": "stdout",
     "output_type": "stream",
     "text": [
      "2\n"
     ]
    }
   ],
   "source": [
    "import random\n",
    "num = random.randint(1,100)\n",
    "print(num)"
   ]
  }
 ],
 "metadata": {
  "kernelspec": {
   "display_name": "Python 3 (ipykernel)",
   "language": "python",
   "name": "python3"
  },
  "language_info": {
   "codemirror_mode": {
    "name": "ipython",
    "version": 3
   },
   "file_extension": ".py",
   "mimetype": "text/x-python",
   "name": "python",
   "nbconvert_exporter": "python",
   "pygments_lexer": "ipython3",
   "version": "3.12.4"
  }
 },
 "nbformat": 4,
 "nbformat_minor": 5
}
