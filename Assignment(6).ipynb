{
 "cells": [
  {
   "cell_type": "markdown",
   "id": "5c774a12-e7c5-4e9a-b9cc-9259a4899e7a",
   "metadata": {},
   "source": [
    "1. What are escape characters, and how do you use them?"
   ]
  },
  {
   "cell_type": "code",
   "execution_count": 2,
   "id": "e86ca91b-04ab-4059-afed-5556f53023f2",
   "metadata": {},
   "outputs": [
    {
     "name": "stdout",
     "output_type": "stream",
     "text": [
      "my name is kunal\n"
     ]
    }
   ],
   "source": [
    "'''In Python strings, the backslash \"\" is a special character, also called the \"escape\" character. \n",
    "It is used in representing certain whitespace characters: \"\\t\" is a tab,\"\\n\" is a newline,\n",
    "and \"\\r\" is a carriage return'''\n",
    "print(\"my \\\n",
    "name \\\n",
    "is \\\n",
    "kunal\")\n"
   ]
  },
  {
   "cell_type": "markdown",
   "id": "668d2d63-782a-462e-bab5-775b36f887f4",
   "metadata": {},
   "source": [
    "2. What do the escape characters n and t stand for?"
   ]
  },
  {
   "cell_type": "markdown",
   "id": "8017254b-a99a-4196-86e6-1083bfb939e9",
   "metadata": {},
   "source": [
    "Answer : \"\\t\" is a tab,\n",
    "         \"\\n\" is a newline"
   ]
  },
  {
   "cell_type": "markdown",
   "id": "5ef7db71-54bf-4c2e-85e8-5b02009ee916",
   "metadata": {},
   "source": [
    "3. What is the way to include backslash characters in a string?"
   ]
  },
  {
   "cell_type": "markdown",
   "id": "72f22579-a915-4bb8-85a6-ee53baa487c1",
   "metadata": {},
   "source": [
    "we can use \\ \\ "
   ]
  },
  {
   "cell_type": "code",
   "execution_count": 22,
   "id": "8193c36a-cfb1-4e2b-a568-dfd88714151e",
   "metadata": {},
   "outputs": [
    {
     "name": "stdout",
     "output_type": "stream",
     "text": [
      "This is \\ kunal\n"
     ]
    }
   ],
   "source": [
    "print('This is \\\\ kunal')"
   ]
  },
  {
   "cell_type": "markdown",
   "id": "6996f1df-5b6f-471a-809d-8d7abf715d79",
   "metadata": {},
   "source": [
    "4. The string \"Howl's Moving Castle\" is a correct value. Why isn't the single quote character in the word Howl's not escaped a problem?"
   ]
  },
  {
   "cell_type": "code",
   "execution_count": 5,
   "id": "a64e97d9-010e-4423-8087-56d4de0596ae",
   "metadata": {},
   "outputs": [
    {
     "name": "stdout",
     "output_type": "stream",
     "text": [
      "Howl's Moving Castle\n"
     ]
    }
   ],
   "source": [
    "print(\"Howl's Moving Castle\") #because of double quotes"
   ]
  },
  {
   "cell_type": "markdown",
   "id": "52eb0a54-cf44-4a80-baae-df3ef822f261",
   "metadata": {},
   "source": [
    "5. How do you write a string of newlines if you don't want to use the n character?"
   ]
  },
  {
   "cell_type": "markdown",
   "id": "b0ab7de5-4477-4bb8-bd6b-d44e4fc4cd0d",
   "metadata": {},
   "source": [
    "If you don't want to use the \\n character to represent newlines in a string, you can use triple-quoted strings (\"\"\")."
   ]
  },
  {
   "cell_type": "markdown",
   "id": "c66f3bfb-7a45-4d85-b73c-42a21d286bb8",
   "metadata": {},
   "source": [
    "6. What are the values of the given expressions?"
   ]
  },
  {
   "cell_type": "code",
   "execution_count": 11,
   "id": "a1a6aeb5-d365-40a8-9da7-1f04ed02db8d",
   "metadata": {},
   "outputs": [
    {
     "data": {
      "text/plain": [
       "'e'"
      ]
     },
     "execution_count": 11,
     "metadata": {},
     "output_type": "execute_result"
    }
   ],
   "source": [
    "'Hello, world!'[1]"
   ]
  },
  {
   "cell_type": "code",
   "execution_count": 12,
   "id": "a349ea51-33d7-4167-ac79-c14db90fabbc",
   "metadata": {},
   "outputs": [
    {
     "data": {
      "text/plain": [
       "'Hello'"
      ]
     },
     "execution_count": 12,
     "metadata": {},
     "output_type": "execute_result"
    }
   ],
   "source": [
    "'Hello, world!'[0:5]"
   ]
  },
  {
   "cell_type": "code",
   "execution_count": 13,
   "id": "5ee4c1e7-e814-4bbf-9b35-a2754f6df4ca",
   "metadata": {},
   "outputs": [
    {
     "data": {
      "text/plain": [
       "'Hello'"
      ]
     },
     "execution_count": 13,
     "metadata": {},
     "output_type": "execute_result"
    }
   ],
   "source": [
    "'Hello, world!'[:5]"
   ]
  },
  {
   "cell_type": "code",
   "execution_count": 14,
   "id": "dc395dac-b92f-429f-af68-6b7c5bb30c17",
   "metadata": {},
   "outputs": [
    {
     "data": {
      "text/plain": [
       "'lo, world!'"
      ]
     },
     "execution_count": 14,
     "metadata": {},
     "output_type": "execute_result"
    }
   ],
   "source": [
    "'Hello, world!'[3:]"
   ]
  },
  {
   "cell_type": "markdown",
   "id": "14d63171-8f6a-4ea3-8179-4103ca34d845",
   "metadata": {},
   "source": [
    "7. What are the values of the following expressions?"
   ]
  },
  {
   "cell_type": "code",
   "execution_count": 18,
   "id": "0595ae1d-b6a7-4727-b770-3fcd8ac71900",
   "metadata": {},
   "outputs": [
    {
     "data": {
      "text/plain": [
       "'HELLO'"
      ]
     },
     "execution_count": 18,
     "metadata": {},
     "output_type": "execute_result"
    }
   ],
   "source": [
    "'Hello'.upper()"
   ]
  },
  {
   "cell_type": "code",
   "execution_count": 16,
   "id": "2468e845-44aa-479c-a70d-5f346d0802c1",
   "metadata": {},
   "outputs": [
    {
     "data": {
      "text/plain": [
       "True"
      ]
     },
     "execution_count": 16,
     "metadata": {},
     "output_type": "execute_result"
    }
   ],
   "source": [
    "'Hello'.upper().isupper()"
   ]
  },
  {
   "cell_type": "code",
   "execution_count": 17,
   "id": "f9133ebe-13d1-4fc0-8681-8c4d82de846d",
   "metadata": {},
   "outputs": [
    {
     "data": {
      "text/plain": [
       "'hello'"
      ]
     },
     "execution_count": 17,
     "metadata": {},
     "output_type": "execute_result"
    }
   ],
   "source": [
    "'Hello'.upper().lower()"
   ]
  },
  {
   "cell_type": "markdown",
   "id": "7ce5ecca-ba04-4e62-9161-a1423332dba6",
   "metadata": {},
   "source": [
    "8. What are the values of the following expressions?\n",
    "'Remember, remember, the fifth of July.'.split()\n",
    "'-'.join('There can only one.'.split())"
   ]
  },
  {
   "cell_type": "code",
   "execution_count": 19,
   "id": "e87315bc-b7ba-47d0-a48e-b2ce3640ccc4",
   "metadata": {},
   "outputs": [
    {
     "data": {
      "text/plain": [
       "['Remember,', 'remember,', 'the', 'fifth', 'of', 'July.']"
      ]
     },
     "execution_count": 19,
     "metadata": {},
     "output_type": "execute_result"
    }
   ],
   "source": [
    "'Remember, remember, the fifth of July.'.split()"
   ]
  },
  {
   "cell_type": "code",
   "execution_count": 21,
   "id": "94155eb9-87c5-4ba3-a98c-cb2b04d0dab6",
   "metadata": {},
   "outputs": [
    {
     "data": {
      "text/plain": [
       "'There-can-only-one.'"
      ]
     },
     "execution_count": 21,
     "metadata": {},
     "output_type": "execute_result"
    }
   ],
   "source": [
    "'-'.join('There can only one.'.split())"
   ]
  },
  {
   "cell_type": "markdown",
   "id": "7b34b8b4-3c4c-4e6d-929a-07124d120601",
   "metadata": {},
   "source": [
    "9. What are the methods for right-justifying, left-justifying, and centering a string?"
   ]
  },
  {
   "cell_type": "code",
   "execution_count": 24,
   "id": "65e111da-809b-473f-a544-4c25d89f8fb2",
   "metadata": {},
   "outputs": [
    {
     "data": {
      "text/plain": [
       "'Hello World---------------------------------------'"
      ]
     },
     "execution_count": 24,
     "metadata": {},
     "output_type": "execute_result"
    }
   ],
   "source": [
    "# left justified\n",
    "str =\"Hello World\"\n",
    "str.ljust(50,\"-\")"
   ]
  },
  {
   "cell_type": "code",
   "execution_count": 25,
   "id": "5f200260-0411-498c-9040-031665a28282",
   "metadata": {},
   "outputs": [
    {
     "data": {
      "text/plain": [
       "'---------------------------------------Hello World'"
      ]
     },
     "execution_count": 25,
     "metadata": {},
     "output_type": "execute_result"
    }
   ],
   "source": [
    "# right justified\n",
    "str =\"Hello World\"\n",
    "str.rjust(50,'-')"
   ]
  },
  {
   "cell_type": "code",
   "execution_count": 26,
   "id": "0bb97774-8476-420b-9773-a611e8976824",
   "metadata": {},
   "outputs": [
    {
     "data": {
      "text/plain": [
       "'-------------------Hello World--------------------'"
      ]
     },
     "execution_count": 26,
     "metadata": {},
     "output_type": "execute_result"
    }
   ],
   "source": [
    "# center justified\n",
    "str =\"Hello World\"\n",
    "str.center(50,'-')"
   ]
  },
  {
   "cell_type": "markdown",
   "id": "56864d86-a8db-4c0e-9878-becb99cb3cfb",
   "metadata": {},
   "source": [
    "10. What is the best way to remove whitespace characters from the start or end?"
   ]
  },
  {
   "cell_type": "markdown",
   "id": "23b3e748-b744-4bbe-87ee-89afbdc7b1ba",
   "metadata": {},
   "source": [
    "lstrip() = removes white spaces from left of the string\n",
    "\n",
    "rstrip() = removes whitespaces from right of the string"
   ]
  },
  {
   "cell_type": "code",
   "execution_count": 27,
   "id": "61c27d1e-ca65-453f-bd65-ecde75693f44",
   "metadata": {},
   "outputs": [
    {
     "data": {
      "text/plain": [
       "'Hello World'"
      ]
     },
     "execution_count": 27,
     "metadata": {},
     "output_type": "execute_result"
    }
   ],
   "source": [
    "str = \"        Hello World\"\n",
    "str.lstrip()"
   ]
  },
  {
   "cell_type": "code",
   "execution_count": 28,
   "id": "f3882a8f-d8f2-49cb-b43a-51750750315f",
   "metadata": {},
   "outputs": [
    {
     "data": {
      "text/plain": [
       "'Hello World'"
      ]
     },
     "execution_count": 28,
     "metadata": {},
     "output_type": "execute_result"
    }
   ],
   "source": [
    "str = \"Hello World       \"\n",
    "str.rstrip()"
   ]
  }
 ],
 "metadata": {
  "kernelspec": {
   "display_name": "Python 3 (ipykernel)",
   "language": "python",
   "name": "python3"
  },
  "language_info": {
   "codemirror_mode": {
    "name": "ipython",
    "version": 3
   },
   "file_extension": ".py",
   "mimetype": "text/x-python",
   "name": "python",
   "nbconvert_exporter": "python",
   "pygments_lexer": "ipython3",
   "version": "3.12.4"
  }
 },
 "nbformat": 4,
 "nbformat_minor": 5
}
