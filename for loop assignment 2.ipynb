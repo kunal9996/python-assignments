{
 "cells": [
  {
   "cell_type": "markdown",
   "id": "ff8ed1b5-aa64-4f3f-93f8-d7d1b32d12c4",
   "metadata": {},
   "source": [
    "Task1:\n",
    "You have a nested list as below:\n",
    "indian_employees = [[\"Raj\", \"Patel\"], [\"Priya\", \"Sharma\"],[\"Amit\", \"Kumar\"],[\"Neha\", \"Singh\"]]\n",
    "your have to create an email address for each employee.\n",
    "Email address should be there firstname+lastname@gmail.com\n",
    "\n",
    "Expected output:\n",
    "RajPatel@gmail.com\n",
    "PriyaSharma@gmail.com\n",
    "You have to create email addresses for each employee."
   ]
  },
  {
   "cell_type": "code",
   "execution_count": 63,
   "id": "9c35c6a2-4ff1-4684-8c34-4ef2155a67f5",
   "metadata": {},
   "outputs": [
    {
     "name": "stdout",
     "output_type": "stream",
     "text": [
      "RajPatel@gmail.com\n",
      "PriyaSharma@gmail.com\n",
      "AmitKumar@gmail.com\n",
      "NehaSingh@gmail.com\n"
     ]
    }
   ],
   "source": [
    "indian_employees = [[\"Raj\", \"Patel\"], [\"Priya\", \"Sharma\"],[\"Amit\", \"Kumar\"],[\"Neha\", \"Singh\"]]\n",
    "for name,surname in indian_employees:\n",
    "    print(f\"{name}{surname}@gmail.com\")"
   ]
  }
 ],
 "metadata": {
  "kernelspec": {
   "display_name": "Python 3 (ipykernel)",
   "language": "python",
   "name": "python3"
  },
  "language_info": {
   "codemirror_mode": {
    "name": "ipython",
    "version": 3
   },
   "file_extension": ".py",
   "mimetype": "text/x-python",
   "name": "python",
   "nbconvert_exporter": "python",
   "pygments_lexer": "ipython3",
   "version": "3.12.4"
  }
 },
 "nbformat": 4,
 "nbformat_minor": 5
}
