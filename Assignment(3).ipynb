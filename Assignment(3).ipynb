{
 "cells": [
  {
   "cell_type": "markdown",
   "id": "415b2e6c-dba6-4197-8ef3-123e460301f9",
   "metadata": {},
   "source": [
    "1. Why are functions advantageous to have in your programs?"
   ]
  },
  {
   "cell_type": "markdown",
   "id": "0ea22565-c99d-403c-9be6-fcccde1a6ada",
   "metadata": {},
   "source": [
    "Answer : Functions reduce the need for duplicate code. This makes programs shorter, easier to read, and easier to update. and it is also time saving."
   ]
  },
  {
   "cell_type": "markdown",
   "id": "fe049dea-db61-481e-a7ca-316a41cb8335",
   "metadata": {},
   "source": [
    "2. When does the code in a function run: when it's specified or when it's called?"
   ]
  },
  {
   "cell_type": "markdown",
   "id": "72874e0a-20ed-490f-a2ff-6f00540e1d9b",
   "metadata": {},
   "source": [
    "Answer : The code in a function run when it's called."
   ]
  },
  {
   "cell_type": "markdown",
   "id": "5a264409-d412-4f17-a61b-a7a02bfa24e7",
   "metadata": {},
   "source": [
    "3. What statement creates a function?"
   ]
  },
  {
   "cell_type": "markdown",
   "id": "01fd2c0d-3c8a-45c1-a2c4-8cfab6d55b29",
   "metadata": {},
   "source": [
    "Answer : def statement create function."
   ]
  },
  {
   "cell_type": "markdown",
   "id": "8b72a4fe-d900-44bd-aaa3-1d965b80bc13",
   "metadata": {},
   "source": [
    "4. What is the difference between a function and a function call?"
   ]
  },
  {
   "cell_type": "markdown",
   "id": "e86fe6c3-2147-4d55-a19f-141c95640d9e",
   "metadata": {},
   "source": [
    "Ansewr : a function is a block of code that performs a specific task, while a function call is an expression that calls a function and executes the code in the function."
   ]
  },
  {
   "cell_type": "markdown",
   "id": "c30c70c6-7bbc-4088-a36b-05c1222cfa27",
   "metadata": {},
   "source": [
    "5. How many global scopes are there in a Python program? How many local scopes?"
   ]
  },
  {
   "cell_type": "markdown",
   "id": "841ed144-5549-4cc4-a769-0e62efc85c4a",
   "metadata": {},
   "source": [
    "Answer :  Global scopes : Only One\r\n",
    "          Local scope : It is created whenever a function is called."
   ]
  },
  {
   "cell_type": "markdown",
   "id": "f691854e-eb47-4594-bb9e-2a58c8da20ee",
   "metadata": {},
   "source": [
    "6. What happens to variables in a local scope when the function call returns?"
   ]
  },
  {
   "cell_type": "markdown",
   "id": "ba3ae661-81f1-4975-a78d-c0cad4827777",
   "metadata": {},
   "source": [
    "Answer : When a function returns, the local scope variable is destroyed."
   ]
  },
  {
   "cell_type": "markdown",
   "id": "f744dc2e-1f6a-4626-b266-1209d22fb26b",
   "metadata": {},
   "source": [
    "7. What is the concept of a return value? Is it possible to have a return value in an expression?"
   ]
  },
  {
   "cell_type": "markdown",
   "id": "da97b047-75c2-48d7-9a97-7225fd753e87",
   "metadata": {},
   "source": [
    "Answer :  - It is used to end the execution of the function call. \r\n",
    "          - Yes, it is possible to evaluate expressions using return statement."
   ]
  },
  {
   "cell_type": "markdown",
   "id": "5b110ebc-37af-4950-bf96-c0a62c787e30",
   "metadata": {},
   "source": [
    "8. If a function does not have a return statement, what is the return value of a call to that function?"
   ]
  },
  {
   "cell_type": "markdown",
   "id": "a7910223-f865-4c79-ae75-4458cfbf8f4d",
   "metadata": {},
   "source": [
    "Answer :  If a function does not have a return statement, the value return is None."
   ]
  },
  {
   "cell_type": "markdown",
   "id": "f8c9005e-433b-4441-bfbd-facfeaec293d",
   "metadata": {},
   "source": [
    "9. How do you make a function variable refer to the global variable?"
   ]
  },
  {
   "cell_type": "markdown",
   "id": "d4b7043a-9f01-4b7e-b241-811d02951f3d",
   "metadata": {},
   "source": [
    "Answer : - A global statement will force a variable in a function to refer to the global variable. \r\n",
    "         - If you want to refer to a global variable in a function, you can use the global keyword to declare which variables are global."
   ]
  },
  {
   "cell_type": "markdown",
   "id": "c544bf00-8798-4cf3-b503-ceb2c8722323",
   "metadata": {},
   "source": [
    "10. What is the data type of None?"
   ]
  },
  {
   "cell_type": "markdown",
   "id": "62213587-fb8d-43d7-83a5-4d69fbf139bd",
   "metadata": {},
   "source": [
    "Answer : None is a data type of its own (NoneType)"
   ]
  },
  {
   "cell_type": "code",
   "execution_count": 1,
   "id": "b4cf8342-485c-4df7-b1c0-cedd96615682",
   "metadata": {},
   "outputs": [
    {
     "name": "stdout",
     "output_type": "stream",
     "text": [
      "<class 'NoneType'>\n"
     ]
    }
   ],
   "source": [
    "a = None\n",
    "print(type(a))"
   ]
  },
  {
   "cell_type": "markdown",
   "id": "fa3486d6-dfd5-47df-83a7-b8542c691ae9",
   "metadata": {},
   "source": [
    "11. What does the sentence import areallyourpetsnamederic do?"
   ]
  },
  {
   "cell_type": "markdown",
   "id": "8125044e-b264-4fbf-b7e0-6129ba4bdfa0",
   "metadata": {},
   "source": [
    " Answer : It will import a module named areallyourpetsnamederic to Python Library"
   ]
  },
  {
   "cell_type": "markdown",
   "id": "32047c99-d74b-4ea1-940f-8c587fefe53c",
   "metadata": {},
   "source": [
    "12. If you had a bacon() feature in a spam module, what would you call it after importing spam?"
   ]
  },
  {
   "cell_type": "markdown",
   "id": "1f68c760-1f99-459b-ba42-6b8e4143949e",
   "metadata": {},
   "source": [
    "Answer : spam.bacon()"
   ]
  },
  {
   "cell_type": "markdown",
   "id": "224bba0e-e42c-416f-947b-c8ac608c4e20",
   "metadata": {},
   "source": [
    "13. What can you do to save a programme from crashing if it encounters an error?"
   ]
  },
  {
   "cell_type": "markdown",
   "id": "7c0919ff-72c3-4414-bdf5-12addb52291a",
   "metadata": {},
   "source": [
    "Answer : Place the line of code that might cause an error in a try clause and use except block to handle the error."
   ]
  },
  {
   "cell_type": "markdown",
   "id": "ab9ea7db-138a-4de6-8c80-0f65b6c618ba",
   "metadata": {},
   "source": [
    "14. What is the purpose of the try clause? What is the purpose of the except clause?"
   ]
  },
  {
   "cell_type": "markdown",
   "id": "57eeee07-7fee-41eb-8314-89eb6a2675d6",
   "metadata": {},
   "source": [
    "Answer : The code that could potentially cause an error goes in the try clause. The code that executes if an error happens goes in the except clause."
   ]
  }
 ],
 "metadata": {
  "kernelspec": {
   "display_name": "Python 3 (ipykernel)",
   "language": "python",
   "name": "python3"
  },
  "language_info": {
   "codemirror_mode": {
    "name": "ipython",
    "version": 3
   },
   "file_extension": ".py",
   "mimetype": "text/x-python",
   "name": "python",
   "nbconvert_exporter": "python",
   "pygments_lexer": "ipython3",
   "version": "3.12.4"
  }
 },
 "nbformat": 4,
 "nbformat_minor": 5
}
