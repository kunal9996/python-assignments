{
 "cells": [
  {
   "cell_type": "markdown",
   "id": "42911c35-f6d4-4552-84c2-aaa0fc48eb1f",
   "metadata": {},
   "source": [
    "1. In the below elements which of them are values or an expression? eg:- values can be\n",
    "integer or string and expressions will be mathematical operators.\n",
    "*\n",
    "\"hello\"\n",
    "-87.8\n",
    "-\n",
    "/\n",
    "+\n",
    "6"
   ]
  },
  {
   "cell_type": "markdown",
   "id": "0b745e69-aecb-4a39-bf65-a49f883b8473",
   "metadata": {},
   "source": [
    "answer: *            = expression\n",
    "        \"hello\"      = value\n",
    "        -87.8        = value\n",
    "        -            = expression\n",
    "        /            = expression\n",
    "        +            = expression\n",
    "        6            = value"
   ]
  },
  {
   "cell_type": "markdown",
   "id": "cae44086-7e5b-4c45-b90d-51c68c3d0290",
   "metadata": {},
   "source": [
    "2. What is the difference between string and variable?"
   ]
  },
  {
   "cell_type": "markdown",
   "id": "32fd0d34-1df3-48b3-9dd3-b0f25a713e65",
   "metadata": {},
   "source": [
    "answer: string = string is a data type and it is a sequence of characters \n",
    "        variable = it is a name of given memory location"
   ]
  },
  {
   "cell_type": "code",
   "execution_count": 1,
   "id": "319cc0d9-2e18-4992-9f2c-6551375da082",
   "metadata": {},
   "outputs": [
    {
     "name": "stdout",
     "output_type": "stream",
     "text": [
      "<class 'str'>\n"
     ]
    }
   ],
   "source": [
    "a = \"hello\"\n",
    "print(type(a))"
   ]
  },
  {
   "cell_type": "code",
   "execution_count": 3,
   "id": "68fdf7d6-c815-4286-9891-23a3928141b8",
   "metadata": {},
   "outputs": [
    {
     "name": "stdout",
     "output_type": "stream",
     "text": [
      "<class 'int'>\n"
     ]
    }
   ],
   "source": [
    "b = -5\n",
    "print(type(b))"
   ]
  },
  {
   "cell_type": "markdown",
   "id": "cffe0b1d-84bf-428d-81a7-6a1b72e5e4a9",
   "metadata": {},
   "source": [
    "3. Describe three different data types."
   ]
  },
  {
   "cell_type": "markdown",
   "id": "28cbd239-75e6-471e-9fd3-090d5ebc3ad3",
   "metadata": {},
   "source": [
    "answer: string   = it is sequence of characters  example :- \"hello\"\n",
    "        integers = An integer is any number including 0, positive numbers, and negative numbers without decimal  example:- 1,2,-3\n",
    "        float    = it is in decimal form example :- 1.1"
   ]
  },
  {
   "cell_type": "code",
   "execution_count": 4,
   "id": "f5e74364-1629-438f-a6f0-131c76687f5a",
   "metadata": {},
   "outputs": [
    {
     "name": "stdout",
     "output_type": "stream",
     "text": [
      "<class 'str'>\n"
     ]
    }
   ],
   "source": [
    "#string\n",
    "string = \"kunal\"\n",
    "print(type(string))"
   ]
  },
  {
   "cell_type": "code",
   "execution_count": 5,
   "id": "257bd304-95d9-4992-b7e2-a620e9c6f1a1",
   "metadata": {},
   "outputs": [
    {
     "name": "stdout",
     "output_type": "stream",
     "text": [
      "<class 'int'>\n"
     ]
    }
   ],
   "source": [
    "#integers\n",
    "integers = 5\n",
    "print(type(integers))"
   ]
  },
  {
   "cell_type": "code",
   "execution_count": 6,
   "id": "99c4f9c9-5dba-464f-9b76-e732fd7b966d",
   "metadata": {},
   "outputs": [
    {
     "name": "stdout",
     "output_type": "stream",
     "text": [
      "<class 'float'>\n"
     ]
    }
   ],
   "source": [
    "#float\n",
    "float = 5.5\n",
    "print(type(float))"
   ]
  },
  {
   "cell_type": "markdown",
   "id": "7bbbe5b4-1f31-4059-a47a-8fb1722cac98",
   "metadata": {},
   "source": [
    "4. What is an expression made up of? What do all expressions do?"
   ]
  },
  {
   "cell_type": "code",
   "execution_count": 8,
   "id": "79962f09-15a5-4039-b73e-66621f2addab",
   "metadata": {},
   "outputs": [
    {
     "name": "stdout",
     "output_type": "stream",
     "text": [
      "50\n"
     ]
    }
   ],
   "source": [
    "#expression is a combination of value opraters variable or functions. it can give solutions with the help of interpreters\n",
    "num = 45\n",
    "add = num + 5  #it is expression.\n",
    "print(add)"
   ]
  },
  {
   "cell_type": "markdown",
   "id": "2982c10b-b0bf-407a-8648-3efcbfb6f68e",
   "metadata": {},
   "source": [
    "5. This assignment statements, like spam = 10. What is the difference between an\n",
    "expression and a statement?"
   ]
  },
  {
   "cell_type": "code",
   "execution_count": 9,
   "id": "ec9fff89-4525-48ea-81cd-0138c92514ba",
   "metadata": {},
   "outputs": [
    {
     "name": "stdout",
     "output_type": "stream",
     "text": [
      "15\n"
     ]
    }
   ],
   "source": [
    "#expression is a combination of value opraters variable or functions. it can give solutions with the help of interpreters\n",
    "#A statement is used for creating variables or for displaying values. \n",
    "spam = 10 #statement\n",
    "add = spam + 5  #it is expression.\n",
    "print(add)"
   ]
  },
  {
   "cell_type": "markdown",
   "id": "62e94947-ff92-4bf9-9be9-f86b407604e5",
   "metadata": {},
   "source": [
    "6. After running the following code, what does the variable bacon contain?\r\n",
    "bacon = 22\r\n",
    "bacon + 1"
   ]
  },
  {
   "cell_type": "code",
   "execution_count": 11,
   "id": "8c0c206d-9baa-426b-8864-723b6ce5aeb4",
   "metadata": {},
   "outputs": [
    {
     "data": {
      "text/plain": [
       "23"
      ]
     },
     "execution_count": 11,
     "metadata": {},
     "output_type": "execute_result"
    }
   ],
   "source": [
    "bacon = 22\n",
    "bacon + 1"
   ]
  },
  {
   "cell_type": "markdown",
   "id": "1e4b19d3-03ef-4a9a-b6bd-2ee5b698ebbb",
   "metadata": {},
   "source": [
    "7. What should the values of the following two terms be?\r\n",
    "'spam' + 'spamspam'\r\n",
    "'spam' * 3 3"
   ]
  },
  {
   "cell_type": "code",
   "execution_count": 12,
   "id": "425a6467-80ce-40c4-8ea8-75912d30baea",
   "metadata": {},
   "outputs": [
    {
     "data": {
      "text/plain": [
       "'spamspamspam'"
      ]
     },
     "execution_count": 12,
     "metadata": {},
     "output_type": "execute_result"
    }
   ],
   "source": [
    "'spam' + 'spamspam'"
   ]
  },
  {
   "cell_type": "code",
   "execution_count": 13,
   "id": "fa35c793-cb9e-4fb7-98ce-4270d75bed36",
   "metadata": {},
   "outputs": [
    {
     "data": {
      "text/plain": [
       "'spamspamspam'"
      ]
     },
     "execution_count": 13,
     "metadata": {},
     "output_type": "execute_result"
    }
   ],
   "source": [
    "'spam' * 3"
   ]
  },
  {
   "cell_type": "markdown",
   "id": "10e97ca1-0498-472e-8d36-8eea1665547f",
   "metadata": {},
   "source": [
    "8. Why is eggs a valid variable name while 100 is invalid?"
   ]
  },
  {
   "cell_type": "markdown",
   "id": "44b8b8e7-5725-4372-bdcc-7b4abc7d0994",
   "metadata": {},
   "source": [
    "answer : Because variable name cannot start with a number"
   ]
  },
  {
   "cell_type": "markdown",
   "id": "a9923838-3e09-437e-bf05-19ab78024d8e",
   "metadata": {},
   "source": [
    "9. What three functions can be used to get the integer, floating-point number, or string\n",
    "version of a value?"
   ]
  },
  {
   "cell_type": "markdown",
   "id": "008d17f1-a66d-4e68-83da-f0aabea55b62",
   "metadata": {},
   "source": [
    "answer : For integers = int()\n",
    "         For floating = float()\n",
    "         For string   = str()"
   ]
  },
  {
   "cell_type": "markdown",
   "id": "40c3c6d4-1ae6-4790-a257-ca5371939ac4",
   "metadata": {},
   "source": [
    "10. Why does this expression cause an error? How can you fix it?\r\n",
    "'I have eaten ' + 99 + ' burritos.';"
   ]
  },
  {
   "cell_type": "code",
   "execution_count": 17,
   "id": "c48cc123-ff38-4a78-ad1b-a7d91118bd84",
   "metadata": {},
   "outputs": [
    {
     "data": {
      "text/plain": [
       "'I have eaten 99 burritos.'"
      ]
     },
     "execution_count": 17,
     "metadata": {},
     "output_type": "execute_result"
    }
   ],
   "source": [
    "'I have eaten ' + \"99\" + ' burritos.'"
   ]
  }
 ],
 "metadata": {
  "kernelspec": {
   "display_name": "Python 3 (ipykernel)",
   "language": "python",
   "name": "python3"
  },
  "language_info": {
   "codemirror_mode": {
    "name": "ipython",
    "version": 3
   },
   "file_extension": ".py",
   "mimetype": "text/x-python",
   "name": "python",
   "nbconvert_exporter": "python",
   "pygments_lexer": "ipython3",
   "version": "3.12.4"
  }
 },
 "nbformat": 4,
 "nbformat_minor": 5
}
