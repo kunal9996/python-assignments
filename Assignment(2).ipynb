{
 "cells": [
  {
   "cell_type": "markdown",
   "id": "66cb0bb0-9889-408d-85bb-5aecc780f8da",
   "metadata": {},
   "source": [
    "1. What are the two values of the Boolean data type? How do you write them?"
   ]
  },
  {
   "cell_type": "markdown",
   "id": "c1ad11aa-e6f9-457f-9f2c-8c31f16ef0eb",
   "metadata": {},
   "source": [
    "True\n",
    "False"
   ]
  },
  {
   "cell_type": "code",
   "execution_count": 3,
   "id": "a1f8785c-c665-4478-b99d-aa24f5be636f",
   "metadata": {},
   "outputs": [
    {
     "name": "stdout",
     "output_type": "stream",
     "text": [
      "True\n",
      "False\n"
     ]
    }
   ],
   "source": [
    "print(True)\n",
    "print(False)"
   ]
  },
  {
   "cell_type": "markdown",
   "id": "8c19e902-1522-473e-8eb0-e5e9cd4117da",
   "metadata": {},
   "source": [
    "2. What are the three different types of Boolean operators?"
   ]
  },
  {
   "cell_type": "markdown",
   "id": "e41720f2-1f2e-45f7-b892-db64c71c096f",
   "metadata": {},
   "source": [
    "  1) and\n",
    "  2) or \n",
    "  3) not"
   ]
  },
  {
   "cell_type": "code",
   "execution_count": 9,
   "id": "e401e284-6aac-44ef-adb4-e4b8daa0222b",
   "metadata": {},
   "outputs": [
    {
     "data": {
      "text/plain": [
       "True"
      ]
     },
     "execution_count": 9,
     "metadata": {},
     "output_type": "execute_result"
    }
   ],
   "source": [
    "#and\n",
    "10<11 and 12<13"
   ]
  },
  {
   "cell_type": "code",
   "execution_count": 7,
   "id": "c389ac3a-44a4-4a44-9c9f-ab644d974fad",
   "metadata": {},
   "outputs": [
    {
     "data": {
      "text/plain": [
       "True"
      ]
     },
     "execution_count": 7,
     "metadata": {},
     "output_type": "execute_result"
    }
   ],
   "source": [
    "#or\n",
    "10<11 or 16<13"
   ]
  },
  {
   "cell_type": "code",
   "execution_count": 15,
   "id": "8ae2d3a2-a9e2-472d-860e-c27624d81376",
   "metadata": {},
   "outputs": [
    {
     "data": {
      "text/plain": [
       "False"
      ]
     },
     "execution_count": 15,
     "metadata": {},
     "output_type": "execute_result"
    }
   ],
   "source": [
    "#not\n",
    "not 11<13"
   ]
  },
  {
   "cell_type": "markdown",
   "id": "02dec669-811a-48a2-9d01-3cc5cb9dd2e4",
   "metadata": {},
   "source": [
    "3. Make a list of each Boolean operator's truth tables (i.e. every possible combination of Boolean\r\n",
    "values for the operator and what it evaluate )."
   ]
  },
  {
   "cell_type": "code",
   "execution_count": 27,
   "id": "b692e6c2-23eb-478f-bc7f-1700c02e2ca7",
   "metadata": {},
   "outputs": [
    {
     "data": {
      "text/plain": [
       "True"
      ]
     },
     "execution_count": 27,
     "metadata": {},
     "output_type": "execute_result"
    }
   ],
   "source": [
    "#and\n",
    "True and True is True"
   ]
  },
  {
   "cell_type": "code",
   "execution_count": 18,
   "id": "41af2acf-09e6-485e-8014-82f9a73f795f",
   "metadata": {},
   "outputs": [
    {
     "data": {
      "text/plain": [
       "True"
      ]
     },
     "execution_count": 18,
     "metadata": {},
     "output_type": "execute_result"
    }
   ],
   "source": [
    "True and False is False"
   ]
  },
  {
   "cell_type": "code",
   "execution_count": 19,
   "id": "93c24206-f687-49c5-aa8d-bb12bda0db47",
   "metadata": {},
   "outputs": [
    {
     "data": {
      "text/plain": [
       "False"
      ]
     },
     "execution_count": 19,
     "metadata": {},
     "output_type": "execute_result"
    }
   ],
   "source": [
    "False and True is False"
   ]
  },
  {
   "cell_type": "code",
   "execution_count": 20,
   "id": "1d3d6c57-97cf-4ba1-9012-7cf6999563e9",
   "metadata": {},
   "outputs": [
    {
     "data": {
      "text/plain": [
       "False"
      ]
     },
     "execution_count": 20,
     "metadata": {},
     "output_type": "execute_result"
    }
   ],
   "source": [
    "False and False is False"
   ]
  },
  {
   "cell_type": "code",
   "execution_count": 21,
   "id": "c9955bc4-7b66-43e9-8b82-5696f292ebfc",
   "metadata": {},
   "outputs": [
    {
     "data": {
      "text/plain": [
       "True"
      ]
     },
     "execution_count": 21,
     "metadata": {},
     "output_type": "execute_result"
    }
   ],
   "source": [
    "#or\n",
    "True or True is True"
   ]
  },
  {
   "cell_type": "code",
   "execution_count": 22,
   "id": "0c98732b-0334-47a4-888b-ff69f4061272",
   "metadata": {},
   "outputs": [
    {
     "data": {
      "text/plain": [
       "True"
      ]
     },
     "execution_count": 22,
     "metadata": {},
     "output_type": "execute_result"
    }
   ],
   "source": [
    "True or False is True"
   ]
  },
  {
   "cell_type": "code",
   "execution_count": 23,
   "id": "c0d42b8b-1faa-4258-8c43-792d6408f0a7",
   "metadata": {},
   "outputs": [
    {
     "data": {
      "text/plain": [
       "True"
      ]
     },
     "execution_count": 23,
     "metadata": {},
     "output_type": "execute_result"
    }
   ],
   "source": [
    "False or True is True"
   ]
  },
  {
   "cell_type": "code",
   "execution_count": 24,
   "id": "25d0ce86-3931-4c3e-af9c-164c501feaa9",
   "metadata": {},
   "outputs": [
    {
     "data": {
      "text/plain": [
       "True"
      ]
     },
     "execution_count": 24,
     "metadata": {},
     "output_type": "execute_result"
    }
   ],
   "source": [
    "False or False is False"
   ]
  },
  {
   "cell_type": "code",
   "execution_count": 28,
   "id": "a6b59901-9926-48d6-8fa3-ae2caee68bc9",
   "metadata": {},
   "outputs": [
    {
     "data": {
      "text/plain": [
       "True"
      ]
     },
     "execution_count": 28,
     "metadata": {},
     "output_type": "execute_result"
    }
   ],
   "source": [
    "#not\n",
    "not True is False"
   ]
  },
  {
   "cell_type": "code",
   "execution_count": 26,
   "id": "9445ab0c-f57b-4ca0-97ef-3d88da46d694",
   "metadata": {},
   "outputs": [
    {
     "data": {
      "text/plain": [
       "True"
      ]
     },
     "execution_count": 26,
     "metadata": {},
     "output_type": "execute_result"
    }
   ],
   "source": [
    "not False is True"
   ]
  },
  {
   "cell_type": "markdown",
   "id": "83a4d566-b0ca-484e-a637-b239a67b7fed",
   "metadata": {},
   "source": []
  },
  {
   "cell_type": "markdown",
   "id": "ac3a4092-4bc0-42bc-9080-40353e1598e4",
   "metadata": {},
   "source": [
    "4. What are the values of the following expressions?\n",
    "(5 > 4) and (3 == 5)\n",
    "not (5 > 4)\n",
    "(5 > 4) or (3 == 5)\n",
    "not ((5 > 4) or (3 == 5))\n",
    "(True and True) and (True == False)\n",
    "(not False) or (not True)"
   ]
  },
  {
   "cell_type": "code",
   "execution_count": 30,
   "id": "ceb5d7a6-135a-471f-b224-7a0284624fe3",
   "metadata": {},
   "outputs": [
    {
     "name": "stdout",
     "output_type": "stream",
     "text": [
      "False\n",
      "False\n",
      "True\n",
      "False\n",
      "False\n",
      "True\n"
     ]
    }
   ],
   "source": [
    "print((5 > 4) and (3 == 5))\n",
    "print(not (5 > 4))\n",
    "print((5 > 4) or (3 == 5))\n",
    "print(not ((5 > 4) or (3 == 5)))\n",
    "print((True and True) and (True == False))\n",
    "print((not False) or (not True))"
   ]
  },
  {
   "cell_type": "markdown",
   "id": "5019065a-17fc-4ab9-ace8-b42dacaf16bc",
   "metadata": {},
   "source": [
    "5. What are the six comparison operators?"
   ]
  },
  {
   "cell_type": "markdown",
   "id": "d3ca477a-b16d-4c8d-bc21-6f5b95dcc0a3",
   "metadata": {},
   "source": [
    " 1) ==\n",
    " 2) <\n",
    " 3) >\n",
    " 4) !=\n",
    " 5) <=\n",
    " 6) >=\n",
    "    "
   ]
  },
  {
   "cell_type": "markdown",
   "id": "482abd1a-3355-46e0-9826-44d179c5fc89",
   "metadata": {},
   "source": [
    "6. How do you tell the difference between the equal to and assignment operators? Describe a\n",
    "condition and when you would use one."
   ]
  },
  {
   "cell_type": "markdown",
   "id": "4b6b15c8-05f3-451d-bfc7-ca2d519f67b2",
   "metadata": {},
   "source": [
    "== is the equal to operator that compares two values and evaluates to a Boolean\n",
    "= is the assignment operator that stores a value in a variable."
   ]
  },
  {
   "cell_type": "code",
   "execution_count": 31,
   "id": "06b54dea-ce7c-4c2b-bba7-31326d55a176",
   "metadata": {},
   "outputs": [
    {
     "name": "stdout",
     "output_type": "stream",
     "text": [
      "False\n",
      "c = 1\n"
     ]
    }
   ],
   "source": [
    "# Equal To Operator\n",
    "if(2==3):\n",
    "    print(\"True\")\n",
    "else:\n",
    "    print(\"False\")\n",
    "#Assignment operator\n",
    "c=1 \n",
    "print(\"c =\",c)"
   ]
  },
  {
   "cell_type": "markdown",
   "id": "68a36543-b22c-4bdf-b1a3-71c3a690828e",
   "metadata": {},
   "source": [
    "7. Identify the three blocks in this code:\r\n",
    "spam = \r\n",
    "if spam == 10:\r\n",
    "    print('eggs' 1\r\n",
    "if spam > 5:\r\n",
    "    print('bacock 2\r\n",
    "else:\r\n",
    "    print('lock 3\r\n",
    "    print('spam')\r\n",
    "    print('spam')pam&#39;)"
   ]
  },
  {
   "cell_type": "code",
   "execution_count": 32,
   "id": "6be10b48-3997-426f-b2c3-992c8c41ed5c",
   "metadata": {},
   "outputs": [
    {
     "name": "stdout",
     "output_type": "stream",
     "text": [
      "ham\n",
      "spam\n",
      "spam\n"
     ]
    }
   ],
   "source": [
    "spam = 0\n",
    "if spam == 10:\n",
    "    print('eggs') #block 1\n",
    "if spam > 5:\n",
    "    print('bacon') #block 2\n",
    "\n",
    "else:\n",
    "    print('ham') #block 3\n",
    "    print('spam')\n",
    "    print('spam')"
   ]
  },
  {
   "cell_type": "markdown",
   "id": "ab5538b8-398c-44b9-a104-99b75275497f",
   "metadata": {},
   "source": [
    "8. Write code that prints Hello if 1 is stored in spam, prints Howdy if 2 is stored in spam, and prints\n",
    "Greetings! if anything else is stored in spam."
   ]
  },
  {
   "cell_type": "code",
   "execution_count": 34,
   "id": "4fe075fa-38d1-4bf3-8fa2-ea21188ecbcd",
   "metadata": {},
   "outputs": [
    {
     "name": "stdin",
     "output_type": "stream",
     "text": [
      "enter number 2\n"
     ]
    },
    {
     "name": "stdout",
     "output_type": "stream",
     "text": [
      "Howdy\n"
     ]
    }
   ],
   "source": [
    "spam = int(input(\"enter number\"))\n",
    "if(spam == 1):\n",
    "    print(\"Hello\")\n",
    "elif(spam == 2):\n",
    "    print(\"Howdy\")\n",
    "else:\n",
    "    print(\"Greetings\")"
   ]
  },
  {
   "cell_type": "markdown",
   "id": "32fa0fe4-1fe5-4f5b-9d10-62d8950ad96a",
   "metadata": {},
   "source": [
    "9. If your programme is stuck in an endless loop, what keys you’ll press?"
   ]
  },
  {
   "cell_type": "markdown",
   "id": "184a8aaa-ffed-4a5a-b022-dd528032825b",
   "metadata": {},
   "source": [
    " If program is stuck in endless loop we will press ctrl+c."
   ]
  },
  {
   "cell_type": "markdown",
   "id": "0bed1198-b0ed-4f1a-903a-460c2295416f",
   "metadata": {},
   "source": [
    "10. How can you tell the difference between break and continue?"
   ]
  },
  {
   "cell_type": "code",
   "execution_count": 35,
   "id": "c8cf40f6-661a-44ce-8110-ad3c1b834957",
   "metadata": {},
   "outputs": [
    {
     "name": "stdout",
     "output_type": "stream",
     "text": [
      "0\n",
      "1\n",
      "2\n",
      "3\n",
      "4\n",
      "5\n",
      "6\n",
      "Breaked\n",
      "0\n",
      "1\n",
      "2\n",
      "3\n",
      "4\n",
      "5\n",
      "6\n",
      "8\n",
      "9\n"
     ]
    }
   ],
   "source": [
    "# use of break\n",
    "for i in range(10):\n",
    "    if(i==7):\n",
    "        break\n",
    "    print(i)\n",
    "    \n",
    "print('Breaked')\n",
    "#use of  continue\n",
    "for i in range(10):\n",
    "    if(i==7):\n",
    "        continue\n",
    "    print(i)"
   ]
  },
  {
   "cell_type": "markdown",
   "id": "402d971e-0b0d-48d4-88e6-ee127d118cf9",
   "metadata": {},
   "source": [
    "break Statement: Exits the loop entirely.\r\n",
    "continue Statement: Skips the current iteration and moves to the next iteration of the loop."
   ]
  },
  {
   "cell_type": "markdown",
   "id": "5f83bc07-bb35-45bc-97f4-2ed6aa10c9da",
   "metadata": {},
   "source": [
    "11. In a for loop, what is the difference between range(10), range(0, 10), and range(0, 10, 1)?"
   ]
  },
  {
   "cell_type": "code",
   "execution_count": 36,
   "id": "829ffa5b-eebf-4be1-a57b-15dbd7684f1c",
   "metadata": {},
   "outputs": [
    {
     "name": "stdout",
     "output_type": "stream",
     "text": [
      "0\n",
      "1\n",
      "2\n",
      "3\n",
      "4\n",
      "5\n",
      "6\n",
      "7\n",
      "8\n",
      "9\n",
      "done\n",
      "0\n",
      "1\n",
      "2\n",
      "3\n",
      "4\n",
      "5\n",
      "6\n",
      "7\n",
      "8\n",
      "9\n",
      "done\n",
      "0\n",
      "1\n",
      "2\n",
      "3\n",
      "4\n",
      "5\n",
      "6\n",
      "7\n",
      "8\n",
      "9\n"
     ]
    }
   ],
   "source": [
    "for i in range(10):\n",
    "    print(i)\n",
    "print(\"done\") \n",
    "for i in range(0,10):\n",
    "    print(i)\n",
    "print(\"done\")\n",
    "for i in range(0,10,1):\n",
    "    print(i)"
   ]
  },
  {
   "cell_type": "markdown",
   "id": "d15986b1-bbe5-40b3-9ebd-eb2724a86f6f",
   "metadata": {},
   "source": [
    " The range(10) call ranges from 0 up to (but not including) 10, range(0, 10) tells the loop to start at 0, and range(0, 10, 1) tells the loop to increase the variable by 1 on each iteration."
   ]
  },
  {
   "cell_type": "markdown",
   "id": "e3f20679-2cc4-4905-90d1-32348f15869e",
   "metadata": {},
   "source": [
    "12. Write a short program that prints the numbers 1 to 10 using a for loop. Then write an equivalent\n",
    "program that prints the numbers 1 to 10 using a while loop."
   ]
  },
  {
   "cell_type": "code",
   "execution_count": 37,
   "id": "7ea4f08f-5e71-4b28-aaea-350b7bff61c5",
   "metadata": {},
   "outputs": [
    {
     "name": "stdout",
     "output_type": "stream",
     "text": [
      "For Loop\n",
      "1\n",
      "2\n",
      "3\n",
      "4\n",
      "5\n",
      "6\n",
      "7\n",
      "8\n",
      "9\n",
      "10\n",
      "While Loop\n",
      "1\n",
      "2\n",
      "3\n",
      "4\n",
      "5\n",
      "6\n",
      "7\n",
      "8\n",
      "9\n",
      "10\n"
     ]
    }
   ],
   "source": [
    "#Use of For Loop\n",
    "print(\"For Loop\")\n",
    "for i in range(1,11):\n",
    "    print(i)\n",
    "#Use of While Loop\n",
    "print(\"While Loop\")\n",
    "a =1\n",
    "while a <= 10:\n",
    "    print(a)\n",
    "    a+=1"
   ]
  },
  {
   "cell_type": "markdown",
   "id": "28c55411-dcc8-43fb-a55a-0af5edeb2404",
   "metadata": {},
   "source": [
    "13. If you had a function named bacon() inside a module named spam, how would you call it after\r\n",
    "importing spam?"
   ]
  },
  {
   "cell_type": "markdown",
   "id": "cd718b21-fafe-4d31-adcf-e9dab0d228f0",
   "metadata": {},
   "source": [
    "This function can be called with spam.bacon()."
   ]
  }
 ],
 "metadata": {
  "kernelspec": {
   "display_name": "Python 3 (ipykernel)",
   "language": "python",
   "name": "python3"
  },
  "language_info": {
   "codemirror_mode": {
    "name": "ipython",
    "version": 3
   },
   "file_extension": ".py",
   "mimetype": "text/x-python",
   "name": "python",
   "nbconvert_exporter": "python",
   "pygments_lexer": "ipython3",
   "version": "3.12.4"
  }
 },
 "nbformat": 4,
 "nbformat_minor": 5
}
