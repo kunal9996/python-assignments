{
 "cells": [
  {
   "cell_type": "markdown",
   "id": "ffea4b56-588e-4ed8-8560-7a80d2d91b24",
   "metadata": {},
   "source": [
    "Q1. Write a program to calculate the electricity bill\r",
    "    \n",
    "using only if statement? (accept number of unit from user)    \r\n",
    "according to the following criteria:    \r\n",
    "\r\n",
    "Unit Pr    ice\r\n",
    "First 100 units no ch    arge\r\n",
    "Next 100 units Rs 5 per     unit\r\n",
    "After 200 units Rs 10 pe    r unit\r\n",
    "(For example, if input unit is 350 than total bill amount is Rs2000). Lets exp    lain...\r\n",
    "For first 100 no     charges\r\n",
    "Now you have 250 unit     remaining\r\n",
    "100-200 you need to pay – 1    00*5 = 500\r\n",
    "Now 200-100 you need to pay 15    0*10 = 1500\r\n",
    "Total = 500+1500 = 2000"
   ]
  },
  {
   "cell_type": "code",
   "execution_count": 109,
   "id": "58ed2e22-1374-4d5f-90fa-9d8290c98379",
   "metadata": {},
   "outputs": [
    {
     "name": "stdin",
     "output_type": "stream",
     "text": [
      "enter unit 122\n"
     ]
    },
    {
     "name": "stdout",
     "output_type": "stream",
     "text": [
      "total cost 110\n"
     ]
    }
   ],
   "source": [
    "units = int(input(\"enter unit\"))\n",
    "if(100<units and units<=200):\n",
    "    cost = (units-100)*5\n",
    "    print(\"total cost\",cost)\n",
    "if(units>200):\n",
    "    cost = ((units-200)*10)+500\n",
    "    print(\"total cost\",cost)        \n",
    "if(units<=100):\n",
    "    print(\"free no charges upto 100 units\")"
   ]
  },
  {
   "cell_type": "markdown",
   "id": "ac244755-11aa-49a8-b7bc-1ecdb6ba410d",
   "metadata": {},
   "source": [
    "Q2. Write a program to accept percentage from the user and display\r\n",
    "the grade according to the following criteria:\r",
    "    \n",
    "\r\n",
    "Marks Gra    de\r\n",
    "> 9    0 A\r\n",
    "> 80 and <=     90 B\r\n",
    ">= 60 and <=     80 C\r\n",
    "below 60 D"
   ]
  },
  {
   "cell_type": "code",
   "execution_count": 2,
   "id": "7054533e-e1e6-494f-8e7b-78f0ba8a68ec",
   "metadata": {},
   "outputs": [
    {
     "name": "stdin",
     "output_type": "stream",
     "text": [
      "enter percentage 66\n"
     ]
    },
    {
     "name": "stdout",
     "output_type": "stream",
     "text": [
      "Grade C\n"
     ]
    }
   ],
   "source": [
    "percentage = int(input(\"enter percentage\"))\n",
    "if(percentage>90 and percentage<=100):\n",
    "    print(\"Grade A\")\n",
    "elif(percentage>80 and percentage<=90):\n",
    "    print(\"Grade B\")\n",
    "elif(percentage>=60 and percentage<=80):\n",
    "    print(\"Grade C\")\n",
    "elif(percentage>100):\n",
    "    print(\"invalid input     (percentage is no greater then 100)\")\n",
    "else:\n",
    "    print(\"Grade D\")\n",
    "    "
   ]
  },
  {
   "cell_type": "markdown",
   "id": "0d8e2603-0daa-407b-a0b6-e4810245ada1",
   "metadata": {},
   "source": [
    "Q3. Accept the age of 4 people and display the youngest one?"
   ]
  },
  {
   "cell_type": "code",
   "execution_count": 9,
   "id": "c4c02493-6dfc-47ac-a6eb-29c1c68eda13",
   "metadata": {},
   "outputs": [
    {
     "name": "stdin",
     "output_type": "stream",
     "text": [
      "enter first people age =  55\n",
      "enter second people age =  33\n",
      "enter third people age =  66\n",
      "enter fourth people age =  11\n"
     ]
    },
    {
     "name": "stdout",
     "output_type": "stream",
     "text": [
      "fourth people is youngest\n"
     ]
    }
   ],
   "source": [
    "a = int(input(\"enter first people age = \"))\n",
    "b = int(input(\"enter second people age = \"))\n",
    "c = int(input(\"enter third people age = \"))\n",
    "d = int(input(\"enter fourth people age = \"))\n",
    "if(a<b and a<d and a<c):\n",
    "    print(\"frist people is youngest \")\n",
    "elif(b<a and b<c and b<d):\n",
    "    print(\"second people is youngest\")\n",
    "elif(c<a and c<b and c<d):\n",
    "    print(\"third people is youngest\")\n",
    "else:\n",
    "    print(\"fourth people is youngest\")"
   ]
  },
  {
   "cell_type": "markdown",
   "id": "7c3fa19d-8edc-474f-8c9c-b03f4288ddb2",
   "metadata": {},
   "source": [
    "Q4. A company decided to give bonus to employee\n",
    "    according to following criteria:\n",
    "\n",
    "    Time period of Service Bonus\n",
    "\n",
    "    More than 10 years 10%\n",
    "\n",
    "    >=6 and <=10 8%\n",
    "\n",
    "    Less than 6 years 5%\n",
    "\n",
    "    Ask user for their salary and years of service and print the\n",
    "    net bonus amount?"
   ]
  },
  {
   "cell_type": "code",
   "execution_count": 19,
   "id": "55657acb-6bf7-49d3-aff5-b8885c80f87b",
   "metadata": {},
   "outputs": [
    {
     "name": "stdin",
     "output_type": "stream",
     "text": [
      "enter your salary amount 25000\n",
      "enter your years of services 8\n"
     ]
    },
    {
     "name": "stdout",
     "output_type": "stream",
     "text": [
      "bonus amount = 2000.0\n"
     ]
    }
   ],
   "source": [
    "salary = int(input(\"enter your salary amount\"))\n",
    "year = int(input(\"enter your years of services\"))\n",
    "if(year>10):\n",
    "    bonus = 10/100*salary\n",
    "    print(\"bonus amount =\",bonus)\n",
    "elif(year>=6 and year<=10):\n",
    "    bonus1 = 8/100*salary\n",
    "    print(\"bonus amount =\",bonus1)\n",
    "else:\n",
    "    bonus2 = 5/100*salary\n",
    "    print(\"bonus amount =\",bonus2)"
   ]
  },
  {
   "cell_type": "markdown",
   "id": "a91607d0-e5d8-4ad8-b201-3b366232524d",
   "metadata": {},
   "source": [
    "Q5. Accept three numbers from the user and\r",
    "    \n",
    "display the second largest number?"
   ]
  },
  {
   "cell_type": "code",
   "execution_count": 89,
   "id": "41781397-bac2-49f7-997f-96f7041781b8",
   "metadata": {},
   "outputs": [
    {
     "name": "stdin",
     "output_type": "stream",
     "text": [
      "enter first number  45\n",
      "enter second number  1\n",
      "enter third number  56790\n"
     ]
    },
    {
     "name": "stdout",
     "output_type": "stream",
     "text": [
      "first is the second largest number = 45\n"
     ]
    }
   ],
   "source": [
    "a = int(input(\"enter first number \"))\n",
    "b = int(input(\"enter second number \"))\n",
    "c = int(input(\"enter third number \"))\n",
    "if(b<a<c):\n",
    "    print(\"first is the second largest number =\",a)\n",
    "elif(b>a>c):\n",
    "    print(\"first is the second largest number =\",a)\n",
    "elif(a<b<c):\n",
    "    print(\"second is the second largest number =\",b)\n",
    "elif(a>b>c):\n",
    "    print(\"second is the second largest number =\",b)\n",
    "elif(a<c<b):\n",
    "    print(\"third is the second largest number =\",c)\n",
    "elif(a>c>b):\n",
    "    print(\"third is the second largest number =\",c)\n",
    "    \n",
    "\n",
    "    "
   ]
  },
  {
   "cell_type": "markdown",
   "id": "dc8f6f8b-dd30-48c3-bbb8-1098002ed0e0",
   "metadata": {},
   "source": [
    "Q6. Accept the marked price from the user and calculate\n",
    "    the Net amount as (Marked Price – Discount) to pay\n",
    "    according to following criteria:\n",
    "\n",
    "    Marked Price Discount\n",
    "    >10000 20%\n",
    "    >7000 and <=10000 15%\n",
    "    <=7000 10%"
   ]
  },
  {
   "cell_type": "code",
   "execution_count": 36,
   "id": "e4a09048-a65a-4737-ae98-7cb59c69424d",
   "metadata": {},
   "outputs": [
    {
     "name": "stdin",
     "output_type": "stream",
     "text": [
      "enter market price 20000\n"
     ]
    },
    {
     "name": "stdout",
     "output_type": "stream",
     "text": [
      "final amount to pay 16000.0\n"
     ]
    }
   ],
   "source": [
    "price = int(input(\"enter market price\"))\n",
    "if(price>10000):\n",
    "    discount = (20/100*price)\n",
    "    final_amount = price-discount\n",
    "    print(\"final amount to pay\"\n",
    "          ,final_amount)\n",
    "elif(price>7000 and price<=10000):\n",
    "    discount = (15/100*price)\n",
    "    final_amount = price-discount\n",
    "    print(\"final amount to pay\",final_amount)\n",
    "else:\n",
    "    discount = (10/100*price)\n",
    "    final_amount = price-discount\n",
    "    print(\"final amount to pay\",final_amount)"
   ]
  },
  {
   "cell_type": "markdown",
   "id": "0f2c1bec-58a5-4a74-adf5-1f15bfa8d5f8",
   "metadata": {},
   "source": [
    "Q7. Accept the marks of English, Math and Science,\n",
    "    Social Studies Subject and display the stream allotted\n",
    "    according to following:\n",
    "\n",
    "    All Subjects more than 80 marks — Science Stream\n",
    "\n",
    "    English >80 and Math, Science above 50 — Commerce Stream\n",
    "\n",
    "    English > 80 and social studies > 80 — Humanities"
   ]
  },
  {
   "cell_type": "code",
   "execution_count": 53,
   "id": "181abbe1-d10c-47f7-bb22-93f3141d699a",
   "metadata": {},
   "outputs": [
    {
     "name": "stdin",
     "output_type": "stream",
     "text": [
      "enter your english marks 81\n",
      "enter your math marks 51\n",
      "enter your science marks 63\n",
      "enter your social science marks  90\n"
     ]
    },
    {
     "name": "stdout",
     "output_type": "stream",
     "text": [
      "commerce stream alloted\n"
     ]
    }
   ],
   "source": [
    "english = int(input(\"enter your english marks\"))\n",
    "math = int(input(\"enter your math marks\"))\n",
    "science = int(input(\"enter your science marks\"))\n",
    "social_science = int(input(\"enter your social science marks \"))\n",
    "if(english>80 and math>80 and science>80 and social_science>80):\n",
    "    print(\"science stream allotted\")\n",
    "elif(english>80 and math>50 and science>50 ):\n",
    "    print(\"commerce stream alloted\")\n",
    "elif(english>80 and social_science>80):\n",
    "    print(\"humanities stream alloted\")\n",
    "else:\n",
    "    print(\"not selected in any stream\")"
   ]
  },
  {
   "cell_type": "markdown",
   "id": "8ed40734-ce08-4833-9eca-4e5baca503f7",
   "metadata": {},
   "source": [
    "Q8. Write a program to display \"Hello\" if a number entered\r",
    "    \n",
    "by user is a multiple of five, otherwise print \"Bye\"?"
   ]
  },
  {
   "cell_type": "code",
   "execution_count": 57,
   "id": "5f145b59-c36d-48d3-a1e4-cd04298a9e46",
   "metadata": {},
   "outputs": [
    {
     "name": "stdin",
     "output_type": "stream",
     "text": [
      "enter a number 25\n"
     ]
    },
    {
     "name": "stdout",
     "output_type": "stream",
     "text": [
      "hello\n"
     ]
    }
   ],
   "source": [
    "number = int(input(\"enter a number\"))\n",
    "if(number%5==0):\n",
    "    print(\"hello\")\n",
    "else:\n",
    "    print(\"bye\")\n",
    "    "
   ]
  },
  {
   "cell_type": "markdown",
   "id": "01d4ff09-c211-41ca-9427-a01df96ced13",
   "metadata": {},
   "source": [
    "Q9. Write a program to check whether the last digit of a number\r",
    "    \n",
    "(entered by user) is divisible by 3 or not?"
   ]
  },
  {
   "cell_type": "code",
   "execution_count": 97,
   "id": "97e6e93d-6924-411a-b0a7-96efc623b312",
   "metadata": {},
   "outputs": [
    {
     "name": "stdin",
     "output_type": "stream",
     "text": [
      "enter number 456\n"
     ]
    },
    {
     "name": "stdout",
     "output_type": "stream",
     "text": [
      "it is divisible by 3\n"
     ]
    }
   ],
   "source": [
    "number = int(input(\"enter number\"))\n",
    "last_digit = number%10\n",
    "if(last_digit%3==0):\n",
    "    print(\"it is divisible by 3\")\n",
    "else:\n",
    "    print(\"it is not divisible by 3\")"
   ]
  },
  {
   "cell_type": "markdown",
   "id": "96effa42-bf38-4804-b4fa-cb688069cf6c",
   "metadata": {},
   "source": [
    "Q10. Write a program to check whether a number entered\r",
    "     \n",
    "is three-digit number or not?"
   ]
  },
  {
   "cell_type": "code",
   "execution_count": 72,
   "id": "13818da2-1c9a-4747-b32a-4611dd674b31",
   "metadata": {},
   "outputs": [
    {
     "name": "stdin",
     "output_type": "stream",
     "text": [
      "enter number 23\n"
     ]
    },
    {
     "name": "stdout",
     "output_type": "stream",
     "text": [
      "it is not three digit number\n"
     ]
    }
   ],
   "source": [
    "number = input(\"enter number\")\n",
    "if(len(number)==3):\n",
    "    print(\"it is three digit number\")\n",
    "else:\n",
    "    print(\"it is not three digit number\")"
   ]
  },
  {
   "cell_type": "code",
   "execution_count": 76,
   "id": "5ef8d634-bf2f-4c41-b142-0d99a5134160",
   "metadata": {},
   "outputs": [
    {
     "name": "stdin",
     "output_type": "stream",
     "text": [
      "enter number 123\n"
     ]
    },
    {
     "name": "stdout",
     "output_type": "stream",
     "text": [
      "it is three digit number\n"
     ]
    }
   ],
   "source": [
    "number = input(\"enter number\")\n",
    "if(len(number)==3):\n",
    "    print(\"it is three digit number\")\n",
    "else:\n",
    "    print(\"it is not three digit number\")\n",
    "\n"
   ]
  }
 ],
 "metadata": {
  "kernelspec": {
   "display_name": "Python 3 (ipykernel)",
   "language": "python",
   "name": "python3"
  },
  "language_info": {
   "codemirror_mode": {
    "name": "ipython",
    "version": 3
   },
   "file_extension": ".py",
   "mimetype": "text/x-python",
   "name": "python",
   "nbconvert_exporter": "python",
   "pygments_lexer": "ipython3",
   "version": "3.12.4"
  }
 },
 "nbformat": 4,
 "nbformat_minor": 5
}
